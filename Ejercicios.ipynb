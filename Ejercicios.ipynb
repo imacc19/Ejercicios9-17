{
 "cells": [
  {
   "cell_type": "markdown",
   "id": "a2536a20-c29f-4491-8162-3070cbd502f9",
   "metadata": {},
   "source": [
    "## **EJERCICIOS**\n",
    "- [Ejercicio 9](#ex_9)\n",
    "  - [a) Inciso A](#ex_9_a)\n",
    "  - [b) Inciso B](#ex_9_b)\n",
    "- [Ejercicio 10](#ex_10)\n",
    "  - [a) Inciso A](#ex_10_a)\n",
    "  - [b) Inciso B](#ex_10_b)\n",
    "  - [c) Inciso C](#ex_10_c)\n",
    "- [Ejercicio 11](#ex_11)\n",
    "  - [a) Inciso A](#ex_11_a)\n",
    "  - [b) Inciso B](#ex_11_b)\n",
    "  - [c) Inciso C](#ex_11_c)\n",
    "- [Ejercicio 12](#ex_12)\n",
    "  - [a) Inciso A](#ex_12_a)  \n",
    "- [Ejercicio 13](#ex_13)\n",
    "  - [a) Inciso A](#ex_13_a)\n",
    "  - [b) Inciso B](#ex_13_b)\n",
    "  - [c) Inciso C](#ex_13_c)\n",
    "  - [d) Inciso D](#ex_13_d)\n",
    "- [Ejercicio 14](#ex_14)\n",
    "  - [a) Inciso A](#ex_14_a)\n",
    "  - [b) Inciso B](#ex_14_b)\n",
    "  - [c) Inciso C](#ex_14_c)\n",
    "  - [d) Inciso D](#ex_14_d)\n",
    "  - [e) Inciso E](#ex_14_e)\n",
    "- [Ejercicio 15](#ex_15)\n",
    "  - [a) Inciso A](#ex_15_a)\n",
    "  - [b) Inciso B](#ex_15_b)\n",
    "  - [c) Inciso C](#ex_15_c)\n",
    "  - [d) Inciso D](#ex_15_d)\n",
    "- [Ejercicio 16](#ex_16)\n",
    "  - [a) Inciso A](#ex_16_a)\n",
    "  - [b) Inciso B](#ex_16_b)\n",
    "  - [c) Inciso C](#ex_16_c)\n",
    "  - [d) Inciso D](#ex_16_d)\n",
    "- [Ejercicio 17](#ex_17)\n",
    "  - [a) Inciso A](#ex_17_a)\n",
    "  - [b) Inciso B](#ex_17_b)\n",
    "  - [c) Inciso C](#ex_17_c)\n",
    "  - [d) Inciso D](#ex_17_d)"
   ]
  },
  {
   "cell_type": "markdown",
   "id": "6ab16975",
   "metadata": {},
   "source": [
    "<div id=ex_9></div>  \n",
    "\n",
    "---  \n",
    "<span style=\"color: #61C2FF; font-size: 23px; font-weight: 600;\">Ejercicio 9</span><div id=ex_9></div>\n",
    "\n",
    "**Sólo para practicar.** Los números telefónicos en la ciudad de Cuernavaca, Morelos, constan de siete dígitos.\n",
    "\n",
    "\n",
    "\n",
    "**a) ¿Cuántas líneas telefónicas pueden crearse en esa ciudad? Recuerda que no pueden comenzar con cero.**\n",
    "\n",
    "**b) Si los tres primeros dígitos representan una zona de Cuernavaca, ¿cuántas líneas telefónicas pertenecen a la zona 326?**"
   ]
  },
  {
   "cell_type": "markdown",
   "id": "54f6720f",
   "metadata": {},
   "source": [
    "<div id=ex_9_a></div> \n",
    "\n",
    "---  \n",
    "<span style=\"color: #F44336; font-size: 20px; font-weight: 600;\">Inciso A</span><div id=ex_9_a></div><div id=ex_9_a></div> \n",
    "### Parte a) ¿Cuántas líneas telefónicas pueden crearse en esa ciudad?\n",
    "\n",
    "Los números telefónicos en Cuernavaca son de siete dígitos y no pueden comenzar con cero.  \n",
    "Por lo tanto, los posibles números telefónicos se forman por combinaciones de los dígitos del 1 al 9 para el primer dígito (porque no puede ser cero) y del 0 al 9 para los seis dígitos restantes.\n",
    "\n",
    "Para calcular el número total de líneas telefónicas posibles:\n",
    "\n",
    "- El primer dígito tiene 9 opciones (1 al 9).  \n",
    "- Cada uno de los siguientes seis dígitos tiene 10 opciones (0 al 9).  \n",
    "- Entonces, el número total de líneas telefónicas posibles se calcula como:  \n",
    "\n",
    "$$ \n",
    "\\begin{gather} \n",
    "    n = 9x10^{6}\\\\\n",
    "    \\boxed{n = 9000000}\n",
    "\\end{gather}\n",
    "$$\n",
    "\n",
    "Donde:\n",
    "\n",
    "- $9$ es el número de opciones para el primer dígito.\n",
    "- $10^6$ es el número de combinaciones para los seis dígitos restantes.  \n",
    "  \n",
    "Entonces: \n",
    "- Tenemos que el número total de líneas telefónicas posibles es de $9000000$"
   ]
  },
  {
   "cell_type": "code",
   "execution_count": 1,
   "id": "89bdfed4",
   "metadata": {},
   "outputs": [
    {
     "name": "stdout",
     "output_type": "stream",
     "text": [
      "En total, se pueden crear 9000000 lineas telefonicas en Cuernavaca\n"
     ]
    }
   ],
   "source": [
    "# Implementación de la solucion del inciso a del ejercicio 9\n",
    "\n",
    "import math\n",
    "\n",
    "n = 9 * (10 ** 6)\n",
    "print(f'En total, se pueden crear {n} lineas telefonicas en Cuernavaca')"
   ]
  },
  {
   "cell_type": "markdown",
   "id": "beb01ca5",
   "metadata": {},
   "source": [
    "<div id=ex_9_b></div> \n",
    "\n",
    "---  \n",
    "<span style=\"color: #F44336; font-size: 20px; font-weight: 600;\">Inciso B</span><div id=ex_9_b></div><div id=ex_9_b></div> \n",
    "### Parte b) ¿Cuántas líneas telefónicas pertenecen a la zona 326?\n",
    "Si los tres primeros dígitos representan una zona específica (en este caso, la zona 326),  \n",
    "entonces los cuatro últimos dígitos pueden ser cualquier combinación de números del 0 al 9.\n",
    "Para calcular el número de líneas telefónicas en la zona 326:  \n",
    "\n",
    "- El prefijo de zona 326 ya está fijo.  \n",
    "- Los cuatro últimos dígitos tienen 10 opciones cada uno.  \n",
    "- Entonces, el número de líneas telefónicas en la zona 326 n se calcula como:\n",
    "\n",
    "$$ \n",
    "\\begin{gather*} \n",
    "    n = 10^4\\\\\n",
    "    \\boxed{n = 10000}\n",
    "\\end{gather*}\n",
    "$$\n",
    "\n",
    "Donde:  \n",
    "\n",
    "- $10^4$ representa las combinaciones posibles para los cuatro últimos dígitos.\n",
    "\n",
    "Entonces: \n",
    "- $10000$ líneas telefónicas pertenecen a la zona 326"
   ]
  },
  {
   "cell_type": "code",
   "execution_count": 2,
   "id": "49e24890",
   "metadata": {},
   "outputs": [
    {
     "name": "stdout",
     "output_type": "stream",
     "text": [
      "En total, hay 10000 lineas que pertenecen a la zona 326\n"
     ]
    }
   ],
   "source": [
    "# Implementación de la solucion del inciso b del ejercicio 9\n",
    "import math\n",
    "\n",
    "n = 10 ** 4\n",
    "print(f'En total, hay {n} lineas que pertenecen a la zona 326')"
   ]
  },
  {
   "cell_type": "markdown",
   "id": "bfe855dd",
   "metadata": {},
   "source": [
    "<div id=ex_10></div>  \n",
    "\n",
    "---  \n",
    "<span style=\"color: #61C2FF; font-size: 23px; font-weight: 600;\">Ejercicio 10</span><div id=ex_10></div>\n",
    "\n",
    "**Sólo para practicar.** Se tiene la palabra MURCIÉLAGO. Si no se permiten repeticiones al usar\n",
    "las letras que la forman, determina:\n",
    "\n",
    "\n",
    "**a) El número de palabras que puedes crear.**\n",
    "\n",
    "**b) El número de palabras con cinco letras.**\n",
    "\n",
    "**c) La probabilidad de que una palabra de cinco letras termine en vocal.**"
   ]
  },
  {
   "cell_type": "markdown",
   "id": "e66ef8cc",
   "metadata": {},
   "source": [
    "<div id=ex_10_a></div> \n",
    "\n",
    "---  \n",
    "<span style=\"color: #F44336; font-size: 20px; font-weight: 600;\">Inciso A</span><div id=ex_10_a></div><div id=ex_10_a></div> \n",
    "### a) Número de palabras que puedes crear  \n",
    "La palabra dada es \"MURCIÉLAGO\". Contamos con 10 letras diferentes. Si no se permiten repeticiones, el número total de palabras posibles se puede calcular usando el factorial del número de letras en \"MURCIÉLAGO\", o sea, 10.\n",
    "\n",
    "1. Calcular el factorial de la longitud de \"MURCIÉLAGO\":\n",
    "    - La longitud de \"MURCIÉLAGO\" es 10.\n",
    "$$\n",
    "\\begin{gather*}\n",
    "    n = 10! \\\\\n",
    "    n = 10 \\times 9 \\times 8 \\times 7 \\times 6 \\times 5 \\times 4 \\times 3 \\times 2 \\times 1\\\\\n",
    "    \\boxed{n = 3628800}\n",
    "\\end{gather*}\n",
    "$$    \n",
    "- Por lo tanto, el número de palabras posibles es $3628800$."
   ]
  },
  {
   "cell_type": "code",
   "execution_count": 3,
   "id": "c63b51f1",
   "metadata": {},
   "outputs": [
    {
     "name": "stdout",
     "output_type": "stream",
     "text": [
      "En total, se pueden crear 3628800 palabras\n"
     ]
    }
   ],
   "source": [
    "# Implementación de la solucion del inciso a del ejercicio 10\n",
    "from math import factorial\n",
    "\n",
    "palOrig = \"MURCIÉLAGO\"\n",
    "res_a = factorial(len(palOrig))\n",
    "print(f'En total, se pueden crear {res_a} palabras')"
   ]
  },
  {
   "cell_type": "markdown",
   "id": "4ddc3854",
   "metadata": {},
   "source": [
    "<div id=ex_10_b></div> \n",
    "\n",
    "---  \n",
    "<span style=\"color: #F44336; font-size: 20px; font-weight: 600;\">Inciso B</span><div id=ex_10_b></div><div id=ex_10_b></div> \n",
    "### b) Número de palabras con cinco letras  \n",
    "Para este inciso, necesitamos contar cuántas palabras diferentes de cinco letras podemos formar con las letras de \"MURCIÉLAGO\".\n",
    "\n",
    "2. Calcular el número de combinaciones de 10 letras tomadas de a 5 sin repetición:\n",
    "    - Esto se calcula utilizando la formula de permutaciones:\n",
    "$$\n",
    "\\begin{align*}\n",
    "    _nP_r &= \\dfrac{n!}{(n - r)!} \\\\\n",
    "    _{10}P_5 &= \\dfrac{10!}{(10 - 5)!} \\\\\n",
    "    _{10}P_5 &= \\dfrac{10!}{5!} = \\dfrac{3628800}{120} \\\\\n",
    "    _{10}P_5 &= 30240\n",
    "\\end{align*}\n",
    "$$ \n",
    "\n",
    "- Donde descubrimos que se pueden formar $30240$ palabras con cinco letras"
   ]
  },
  {
   "cell_type": "code",
   "execution_count": 4,
   "id": "9b1223ad",
   "metadata": {},
   "outputs": [
    {
     "name": "stdout",
     "output_type": "stream",
     "text": [
      "En total, se pueden crear 30240 palabras con cinco letras\n"
     ]
    }
   ],
   "source": [
    "# Implementación de la solución del inciso b del ejercicio 10\n",
    "combinaciones_b = factorial(len(palOrig)) // factorial(len(palOrig) - 5)\n",
    "print(f'En total, se pueden crear {combinaciones_b} palabras con cinco letras')"
   ]
  },
  {
   "cell_type": "markdown",
   "id": "f93fab6d",
   "metadata": {},
   "source": [
    "<div id=ex_10_c></div> \n",
    "\n",
    "---  \n",
    "<span style=\"color: #F44336; font-size: 20px; font-weight: 600;\">Inciso C</span><div id=ex_10_c></div><div id=ex_10_c></div> \n",
    "\n",
    "### c) Probabilidad de que una palabra de cinco letras termine en vocal  \n",
    "Para calcular la probabilidad de que una palabra de cinco letras formada con las letras de \"MURCIÉLAGO\" termine en vocal:\n",
    "\n",
    "1. Se tiene que dividir entre 100 el número de palabras que se pueden crear y posteriormente multiplicarlo por el número de palabras de 5 letras que terminan en vocal\n",
    "\n",
    "La probabilidad $P_r$ se calcula como:\n",
    "\n",
    "$$\n",
    "\\begin{align}\n",
    "    P_r = \\frac{100}{\\text{Número de palabras que se pueden crear}} \\times \\text{Número de palabras de 5 letras que terminan en vocal}\n",
    "\\end{align}\n",
    "$$\n",
    "\n",
    "Donde:\n",
    "\n",
    "- El número de palabras que se pueden crear es:\n",
    "$$\n",
    "\\begin{gather}\n",
    "    n = 10! \\\\\n",
    "    n = 3628800\n",
    "\\end{gather}\n",
    "$$  \n",
    "\n",
    "- El número de palabras de 5 letras que terminan en vocal es\n",
    "$$\n",
    "\\begin{gather}\n",
    "p = 9*8*7*6*5\\\\\n",
    "p = 15120\n",
    "\\end{gather}\n",
    "$$\n",
    "\n",
    "O mejor dicho de otra manera:\n",
    "$$\n",
    "\\begin{align}\n",
    "    P_r = \\frac{100}{3628800} \\times 15120\\ \\\\\n",
    "    \\\\\n",
    "    \\boxed{P_r = 0.42}\n",
    "\\end{align}\n",
    "$$\n",
    "\n",
    "- Como resultado tenemos que la probabilidad de que una palabra de cinco letras termine en vocal es de $0.42$ (redondeado a dos decimales)"
   ]
  },
  {
   "cell_type": "code",
   "execution_count": 5,
   "id": "6d8f4fef",
   "metadata": {},
   "outputs": [
    {
     "name": "stdout",
     "output_type": "stream",
     "text": [
      "La probabilidad es de 0.42%\n"
     ]
    }
   ],
   "source": [
    "# Implementación de la solución del inciso c del ejercicio 10\n",
    "p = 9*8*7*6*5\n",
    "# t = factorial(len(palOrig)) // factorial(len(palOrig) - 5)\n",
    "t = 3628800\n",
    "porcentaje_c = (100 / t) * p\n",
    "print(f\"La probabilidad es de {porcentaje_c:.2f}%\")"
   ]
  },
  {
   "cell_type": "markdown",
   "id": "0c560faa",
   "metadata": {},
   "source": [
    "<div id=ex_11></div> \n",
    "\n",
    "---  \n",
    "<span style=\"color: #61C2FF; font-size: 23px; font-weight: 600;\">Ejercicio 11</span><div id=ex_11></div>  \n",
    "**Parque vehicular.** La Ciudad de México tiene placas de automóviles con tres números seguidos\n",
    "por tres letras, es decir, son placas del tipo 999-AAA. Sin embargo, no pueden empezar con 0\n",
    "(cero) ni se utilizan las letras I, O, Q y Ñ.\n",
    "\n",
    "**a) ¿Cuántas placas diferentes son posibles?**\n",
    "\n",
    "**b) ¿Cuántas placas diferentes terminan en vocal?**\n",
    "\n",
    "**c) ¿Cuál es la probabilidad de que una placa, elegida al azar, sea impar?**"
   ]
  },
  {
   "cell_type": "markdown",
   "id": "168bb0ae",
   "metadata": {},
   "source": [
    "<div id=ex_11_a></div> \n",
    "\n",
    "---  \n",
    "<span style=\"color: #F44336; font-size: 20px; font-weight: 600;\">Inciso A</span><div id=ex_11_a></div><div id=ex_11_a></div> \n",
    "\n",
    "**a) ¿Cuántas placas diferentes son posibles?**\n",
    "Dado el siguiente problema:\n",
    "\n",
    "- No existe condición de repetición de números o letras, excepto que el número inicial no debe ser cero y no debe contener los dígitos I, O, Q y Ñ.\n",
    "- Para el primer espacio, hay 9 números disponibles (del 1 al 9).\n",
    "- Para los dos espacios siguientes, hay 10 números disponibles (del 0 al 9), uno en cada espacio.\n",
    "- Para los últimos tres espacios, hay 23 letras disponibles (del A al Z, excepto I, O, Q y Ñ), y se utilizará una letra en cada espacio.\n",
    "\n",
    "Para formar el patrón con números en los primeros tres espacios:\n",
    "$$\n",
    "\\begin{align}\n",
    "    9 \\cdot 10 \\cdot 10 = 900\n",
    "\\end{align}\n",
    "$$\n",
    "\n",
    "Para formar el patrón con letras en los últimos tres espacios:\n",
    "$$\n",
    "\\begin{align}\n",
    "    23 \\cdot 23 \\cdot 23 = 12,167\n",
    "\\end{align}\n",
    "$$\n",
    "\n",
    "Multiplicando el total de patrones de números y letras:\n",
    "$$\n",
    "\\begin{align}\n",
    "    900 \\cdot 12,167 = 10,950,300\n",
    "\\end{align}\n",
    "$$\n",
    "\n",
    "Teniendo un total de **10,950,300** placas diferentes posibles"
   ]
  },
  {
   "cell_type": "code",
   "execution_count": 1,
   "id": "6250b65e",
   "metadata": {},
   "outputs": [
    {
     "name": "stdout",
     "output_type": "stream",
     "text": [
      "a) Número total de placas diferentes: 10950300\n"
     ]
    }
   ],
   "source": [
    "# Solución en codigó del ejercicio del inciso a\n",
    "import math as m\n",
    "pat_nums = 9 * 10 * 10\n",
    "letras = 23 ** 3\n",
    "total_placas = pat_nums * letras\n",
    "print(f\"a) Número total de placas diferentes: {total_placas}\")"
   ]
  },
  {
   "cell_type": "markdown",
   "id": "d1cec97e",
   "metadata": {},
   "source": [
    "<div id=ex_11_b></div> \n",
    "\n",
    "---  \n",
    "<span style=\"color: #F44336; font-size: 20px; font-weight: 600;\">Inciso B</span><div id=ex_11_b></div><div id=ex_11_b></div> \n",
    "\n",
    "**b) ¿Cuántas placas diferentes terminan en vocal?**\n",
    "\n",
    "Para conocer el total de placas que terminan en vocal, utilizaremos los mismos procedimientos que se usaron en el inciso anterior, pero cambiando la fórmula del patrón de letras ya que se aplica para todas las letras en los tres espacios. El total de vocales que existen son cinco (a, e, i, o, u), por lo tanto, la fórmula del patrón queda de la siguiente manera:\n",
    "\n",
    "El patrón cambia al multiplicar el total de letras que se pueden usar en los dos espacios disponibles, mientras que para el último espacio solo aplicamos las vocales, obteniendo lo siguiente:\n",
    "$$\n",
    "\\begin{align}\n",
    "    23 \\cdot 23 \\cdot 5 = 2,645\n",
    "\\end{align}\n",
    "$$\n",
    "\n",
    "Utilizando el mismo resultado del patrón de los números, ahora multiplicamos por el resultado del patrón con terminación en vocal:\n",
    "\n",
    "$$\n",
    "\\begin{align}\n",
    "    900 \\cdot 2,645 = 2,380,500\n",
    "\\end{align}\n",
    "$$\n",
    "\n",
    "Teniendo un total de **2,380,500** placas que terminan en vocal."
   ]
  },
  {
   "cell_type": "code",
   "execution_count": 2,
   "id": "d1abba36",
   "metadata": {},
   "outputs": [
    {
     "name": "stdout",
     "output_type": "stream",
     "text": [
      "b) Número de placas que terminan en vocal: 2380500\n"
     ]
    }
   ],
   "source": [
    "# Solución en codigó del ejercicio del inciso b\n",
    "vocales = ['A', 'E','I', 'O', 'U']\n",
    "plac_vocales = (23 ** 2) * len(vocales)\n",
    "placas_vocales_tot = pat_nums * plac_vocales \n",
    "print(f\"b) Número de placas que terminan en vocal: {placas_vocales_tot}\")"
   ]
  },
  {
   "cell_type": "markdown",
   "id": "c7ec99bf",
   "metadata": {},
   "source": [
    "<div id=ex_11_c></div> \n",
    "\n",
    "---  \n",
    "<span style=\"color: #F44336; font-size: 20px; font-weight: 600;\">Inciso C</span><div id=ex_11_c></div><div id=ex_11_c></div> \n",
    "\n",
    "**c) ¿Cuál es la probabilidad de que una placa, elegida al azar, sea impar?**\n",
    "\n",
    "Este problema tiene similitudes al anterior, sin embargo, ahora se desea conocer la probabilidad de escoger una placa y que esta sea impar.\n",
    "\n",
    "Primero, deseamos obtener el total de placas que en el tercer espacio de los números sea impar. Para ello, modificamos el patrón de los números:\n",
    "$$\n",
    "\\begin{align}\n",
    "    9 \\cdot 10 \\cdot 5 = 450\n",
    "\\end{align}\n",
    "$$\n",
    "\n",
    "Ahora, multiplicamos este patrón por el patrón con el total de letras, que pertenece al inciso a):\n",
    "$$\n",
    "\\begin{align}\n",
    "    450 \\cdot 12,167 = 5,475,150\n",
    "\\end{align}\n",
    "$$\n",
    "\n",
    "Teniendo un total de **5,475,150** placas que son impares.\n",
    "\n",
    "Finalmente, para calcular la probabilidad de tomar una de estas placas, dividimos el total de placas con número impar entre el total de placas que se obtuvieron en el inciso a):\n",
    "$$\n",
    "\\begin{align}\n",
    "    P = \\dfrac{5,475,150}{10,950,300} = 0.5\n",
    "\\end{align}\n",
    "$$\n",
    "Por lo tanto, la probabilidad de elegir al azar una placa que sea impar es del **50%**."
   ]
  },
  {
   "cell_type": "code",
   "execution_count": 3,
   "id": "e0033a3f",
   "metadata": {},
   "outputs": [
    {
     "name": "stdout",
     "output_type": "stream",
     "text": [
      "c) Probabilidad de que una placa sea impar: 0.5%\n"
     ]
    }
   ],
   "source": [
    "# Solución en codigó del ejercicio del inciso c\n",
    "impar_num = 9 * 10 * 5\n",
    "total_placas_impares = impar_num * letras\n",
    "probabilidad_placas_impares = total_placas_impares / total_placas\n",
    "print(f\"c) Probabilidad de que una placa sea impar: {probabilidad_placas_impares}%\")"
   ]
  },
  {
   "cell_type": "markdown",
   "id": "3682bc12",
   "metadata": {},
   "source": [
    "<div id=ex_12></div> \n",
    "\n",
    "---  \n",
    "<span style=\"color: #61C2FF; font-size: 23px; font-weight: 600;\">Ejercicio 12</span><div id=ex_12></div>  \n",
    "**Servicios restauranteros.** Una cadena de hamburguesas anuncia que se ofrecen 512 maneras de pedir una hamburguesa. Un cliente puede elegir cualquiera de estos ingredientes: cátsup, mostaza, mayonesa, aderezo de la casa, cebolla, pepinillos, jitomate, tocino y lechuga.\n",
    "\n",
    "\n",
    "**¿Crees que lo que afirma la empresa sea cierto?** Justifica tu respuesta."
   ]
  },
  {
   "cell_type": "markdown",
   "id": "b6641a8c",
   "metadata": {},
   "source": [
    "<div id=ex_12_a></div> \n",
    "\n",
    "---  \n",
    "<span style=\"color: #F44336; font-size: 20px; font-weight: 600;\">Justificación</span><div id=ex_12_a></div><div id=ex_12_a></div> \n",
    "\n",
    "**¿Crees que lo que afirma la empresa sea cierto?** Justifica tu respuesta.\n",
    "Para verificar que la cadena de hamburguesas ofrece 512 formas de pedir una hamburguesa, necesitamos calcular el total de combinaciones que se pueden hacer con los 9 ingredientes que ofrecen.\n",
    "\n",
    "Aplicando la fórmula de combinaciones:\n",
    "$$\n",
    "\\begin{align}\n",
    "    _nC_r &= \\dfrac{n!}{(n - r)! \\cdot r!}\n",
    "\\end{align}\n",
    "$$\n",
    "Donde $n = 9$ (número de ingredientes) y $r$ varía de 0 a 9, obtenemos:\n",
    "$$\n",
    "\\begin{align}\n",
    "    _9C_0 &= \\dfrac{9!}{(9 - 0)! \\cdot 0!} = 1\\\\\n",
    "    _9C_1 &= \\dfrac{9!}{(9 - 1)! \\cdot 1!} = 9\\\\\n",
    "    _9C_2 &= \\dfrac{9!}{(9 - 2)! \\cdot 2!} = 36\\\\\n",
    "    _9C_3 &= \\dfrac{9!}{(9 - 3)! \\cdot 3!} = 84\\\\\n",
    "    _9C_4 &= \\dfrac{9!}{(9 - 4)! \\cdot 4!} = 126\\\\\n",
    "    _9C_5 &= \\dfrac{9!}{(9 - 5)! \\cdot 5!} = 126\\\\\n",
    "    _9C_6 &= \\dfrac{9!}{(9 - 6)! \\cdot 6!} = 84\\\\\n",
    "    _9C_7 &= \\dfrac{9!}{(9 - 7)! \\cdot 7!} = 36\\\\\n",
    "    _9C_8 &= \\dfrac{9!}{(9 - 8)! \\cdot 8!} = 9\\\\\n",
    "    _9C_9 &= \\dfrac{9!}{(9 - 9)! \\cdot 9!} = 1\\\\\n",
    "\\end{align}\n",
    "$$\n",
    "\n",
    "Al tener el resultado de cada una de las combinaciones con los ingredientes, sumamos todos los resultados:\n",
    "\n",
    "1 + 9 + 36 + 84 + 126 + 126 + 84 + 36 + 9 + 1 = 512\n",
    "\n",
    "**Al sumar todas estas combinaciones, obtenemos un total de 512 formas de pedir una hamburguesa. Por lo tanto, lo que afirma la cadena de hamburguesas es cierto.**"
   ]
  },
  {
   "cell_type": "code",
   "execution_count": 4,
   "id": "e87ad515",
   "metadata": {},
   "outputs": [
    {
     "name": "stdout",
     "output_type": "stream",
     "text": [
      "Número total de combinaciones posibles: 512\n",
      "La afirmacion del restaurante es correcta al utilizar todos esos ingredientes y tener ese total de combinaciones posibles\n"
     ]
    }
   ],
   "source": [
    "# Solución del ejercicio en codigó\n",
    "ing = ['cátsup', 'mostaza', 'mayonesa', 'aderezo de la casa', \n",
    "       'cebolla', 'pepinillos', 'jitomate', 'tocino', 'lechuga']\n",
    "n = len(ing)\n",
    "\n",
    "total_combinaciones = 0\n",
    "for ingrediente in range(0,n+1):\n",
    "    combinacion = m.comb(n,ingrediente)\n",
    "    total_combinaciones += combinacion\n",
    "\n",
    "print(f\"Número total de combinaciones posibles: {int(total_combinaciones)}\")\n",
    "if total_combinaciones == 512:\n",
    "    print(\"La afirmacion del restaurante es correcta al utilizar todos esos ingredientes y tener ese total de combinaciones posibles\")\n",
    "else:\n",
    "    print(\"La afirmacion del restaurante no es correcta\")"
   ]
  },
  {
   "cell_type": "markdown",
   "id": "882d4a23",
   "metadata": {},
   "source": [
    "<div id=ex_13></div> \n",
    "\n",
    "---  \n",
    "<span style=\"color: #61C2FF; font-size: 23px; font-weight: 600;\">Ejercicio 13</span><div id=ex_13></div>  \n",
    "**Cultura.** Una persona tiene un libro de cada uno de los autores siguientes: Mario Vargas Llosa, \n",
    "Alberto Ruy Sánchez, Gabriel García Márquez, Günther Grass, Patrick Süskind, Heinrich Böll, \n",
    "Arturo Pérez-Reverte y Camilo José Cela. Como aún no los ha leído, quiere ponerlos en una \n",
    "repisa cerca de su cama. De acuerdo con esto, determina:  \n",
    "\n",
    "\n",
    "**a) ¿De cuántas formas puede acomodar los libros sobre la repisa?**\n",
    "\n",
    "**b) ¿De cuántas maneras puede ordenarlos si quiere que los libros de autores latinoamericanos \n",
    "estén juntos?**\n",
    "\n",
    "**c) ¿De cuántas formas puede acomodarlos, si los autores latinoamericanos deben estar juntos, \n",
    "así como los autores alemanes y los españoles también?**\n",
    "\n",
    "**d) Determina las probabilidades correspondientes a los incisos (b) y (c).**"
   ]
  },
  {
   "cell_type": "markdown",
   "id": "d5f1e1eb",
   "metadata": {},
   "source": [
    "<div id=ex_13_a></div> \n",
    "\n",
    "---  \n",
    "<span style=\"color: #F44336; font-size: 20px; font-weight: 600;\">Inciso A</span><div id=ex_13_a></div><div id=ex_13_a></div> \n",
    "\n",
    "**a) ¿De cuántas formas puede acomodar los libros sobre la repisa?**  \n",
    "Son un total de 8 autores, entonces se elebora el factorial de este número:\n",
    "\n",
    "**8! =** $8 \\cdot 7 \\cdot 6 \\cdot 5 \\cdot 4 \\cdot 3 \\cdot 2 \\cdot 1 = 40320$. *Se pueden acomodar de 40320 maneras diferentes*."
   ]
  },
  {
   "cell_type": "code",
   "execution_count": 1,
   "id": "3c027084",
   "metadata": {},
   "outputs": [
    {
     "name": "stdout",
     "output_type": "stream",
     "text": [
      "Maneras de acomodar los libros:  40320\n"
     ]
    }
   ],
   "source": [
    "# Implementacion de la solucion del inciso a) del ejercicio 13\n",
    "import math\n",
    "resultado = math.factorial(8)\n",
    "print(\"Maneras de acomodar los libros: \", resultado)"
   ]
  },
  {
   "cell_type": "markdown",
   "id": "3e69838f",
   "metadata": {},
   "source": [
    "<div id=ex_13_b></div> \n",
    "\n",
    "---  \n",
    "<span style=\"color: #F44336; font-size: 20px; font-weight: 600;\">Inciso B</span><div id=ex_13_b></div><div id=ex_13_b></div>\n",
    "\n",
    "**b) ¿De cuántas maneras puede ordenarlos si quiere que los libros de autores latinoamericanos \n",
    "estén juntos?**\n",
    "\n",
    "Los libros de autores latinoamericanos deben estar juntos, por lo tanto se tomarán como un solo elemento, así que ahora tenemos 5 de los libros restantes, dando un total de 6 elementos en total. Prosiguiendo, se realiza el factorial con los 6 elementos: \n",
    "\n",
    "**6! =** $6  \\cdot 5  \\cdot  4  \\cdot 3 \\cdot 2 \\cdot 1 = 720$.\n",
    "\n",
    "También debemos realizar el factorial del elemento que contiene los 3 libros de los autores latioamericanos:\n",
    "\n",
    "**3! =** $ 3 \\cdot 2 \\cdot 1 = 6$.\n",
    "\n",
    "Por último se multiplican los resultados de ambos factoriales:\n",
    "\n",
    " $ 720 \\cdot 6 = 4320$. *Se pueden ordenar de 4320 maneras mientras los autores latinoamericanos se encuentren juntos*."
   ]
  },
  {
   "cell_type": "code",
   "execution_count": 2,
   "id": "726eb98f",
   "metadata": {},
   "outputs": [
    {
     "name": "stdout",
     "output_type": "stream",
     "text": [
      "Pueden hacerlo de  4320 formas. \n"
     ]
    }
   ],
   "source": [
    "# Implementacion de la solucion del inciso b) del ejercicio 13\n",
    "\n",
    "factorial_6 = math.factorial(6)\n",
    "\n",
    "factorial_3 = math.factorial(3)\n",
    "\n",
    "resultado = factorial_6 * factorial_3\n",
    "\n",
    "print(\"Pueden hacerlo de \", resultado, \"formas. \")"
   ]
  },
  {
   "cell_type": "markdown",
   "id": "340b2f41",
   "metadata": {},
   "source": [
    "<div id=ex_13_c></div> \n",
    "\n",
    "---  \n",
    "<span style=\"color: #F44336; font-size: 20px; font-weight: 600;\">Inciso C</span><div id=ex_13_c></div><div id=ex_13_c></div>\n",
    "\n",
    "**c) ¿De cuántas formas puede acomodarlos, si los autores latinoamericanos deben estar juntos, \n",
    "así como los autores alemanes y los españoles también?**\n",
    "\n",
    "Siguiendo la lógica del inciso anterior, se deben agrupar los elementos de acuerdo a  la nacionalidad de los autores de los libros, por ende se formarían 3 bloques y en cada uno se realiza el factorial de acuerdo a la cantidad de elementos de cada bloque:\n",
    "\n",
    "Bloque A: Contiene 3 elementos, los cuales corresponden a 3 libros de autores alemanes.\n",
    "\n",
    "**3! =** $ 3 \\cdot 2 \\cdot 1 = 6$.\n",
    "\n",
    "Bloque E: Contiene 2 elementos, los cuales corresponden a 2 libros de autores españoles.\n",
    "\n",
    "**2! =** $ 2 \\cdot 1 = 2$.\n",
    "\n",
    "Bloque L: Contiene 3 elementos, los cuales corresponden a 3 libros de autores latinoamericanos.\n",
    "\n",
    "**3! =** $ 3 \\cdot 2 \\cdot 1 = 6$.\n",
    "\n",
    "También se realiza el factorial de la cantidad de bloques que resultaron:\n",
    "\n",
    "**3! =** $ 3 \\cdot 2 \\cdot 1 = 6$.\n",
    "\n",
    "Realizamos la multiplicación de los resultados obtenidos:   \n",
    "$ 6 \\cdot 6 \\cdot 6 \\cdot 2 = 432$ *formas*."
   ]
  },
  {
   "cell_type": "code",
   "execution_count": 3,
   "id": "59828583",
   "metadata": {},
   "outputs": [
    {
     "name": "stdout",
     "output_type": "stream",
     "text": [
      "Pueden hacerlo de  432 maneras. \n"
     ]
    }
   ],
   "source": [
    "# Implementacion de la solucion del inciso c) del ejercicio 13\n",
    "\n",
    "factorial_A = math.factorial(3)\n",
    "\n",
    "factorial_E = math.factorial(2)\n",
    "\n",
    "factorial_L = math.factorial(3)\n",
    "\n",
    "factorial_3 = math.factorial(3)\n",
    "\n",
    "resultado = factorial_A * factorial_E * factorial_L * factorial_3\n",
    "\n",
    "print(\"Pueden hacerlo de \", resultado, \"maneras. \")"
   ]
  },
  {
   "cell_type": "markdown",
   "id": "a94403ae",
   "metadata": {},
   "source": [
    "<div id=ex_14_d></div> \n",
    "\n",
    "---  \n",
    "<span style=\"color: #F44336; font-size: 20px; font-weight: 600;\">Inciso D</span><div id=ex_13_d></div><div id=ex_13_d></div> \n",
    "\n",
    "**d) Determina las probabilidades correspondientes a los incisos (b) y (c).**\n",
    "La siguiente fórmula se aplica a cada uno de los incisos:\n",
    "\n",
    "$$\n",
    "\\begin{align}\n",
    "     P(\\text{evento}) = \\frac{\\# \\text{ de casos favorables}}{\\# \\text{ de casos totales}} \n",
    "\\end{align}\n",
    "$$\n",
    "\n",
    "\n",
    "Para el inciso b, la probabilidad de que ocurra este evento es:\n",
    "\n",
    "$$\n",
    "\\begin{align} \n",
    "    P &= \\dfrac{4320}{40320} = 0.107\\\\\n",
    "\\end{align}\n",
    "$$\n",
    "\n",
    "Para el inciso c, la probabilidad de que ocurra este evento es:\n",
    "\n",
    "$$\n",
    "\\begin{align} \n",
    "    P &= \\dfrac{432}{40320} = 0.0107\\\\\n",
    "\\end{align}\n",
    "$$"
   ]
  },
  {
   "cell_type": "code",
   "execution_count": 4,
   "id": "aceedc1c",
   "metadata": {},
   "outputs": [
    {
     "name": "stdout",
     "output_type": "stream",
     "text": [
      "Probabilidad de inciso b: \n",
      "0.10714285714285714\n",
      "El porcentaje es: \n",
      "Probabilidad de inciso c: \n",
      "0.010714285714285714\n",
      "El porcentaje es: \n"
     ]
    }
   ],
   "source": [
    "# Implementacion de la solucion del inciso d) del ejercicio 13\n",
    "\n",
    "print(\"Probabilidad de inciso b: \")\n",
    "print(4320/40320)\n",
    "\n",
    "print(\"Probabilidad de inciso c: \")\n",
    "print(432/40320)\n"
   ]
  },
  {
   "cell_type": "markdown",
   "id": "4571001d-e0a4-45f7-8ed6-22bfdaffa1c4",
   "metadata": {},
   "source": [
    "<div id=ex_14></div> \n",
    "\n",
    "---  \n",
    "<span style=\"color: #61C2FF; font-size: 23px; font-weight: 600;\">Ejercicio 14</span><div id=ex_14></div>  \n",
    "**Finanzas.** Se va a formar un portafolio de inversión de cuatro instrumentos financieros a partir\n",
    "de cinco de renta fija y seis de renta variable. ¿De cuántas maneras podría formarse el portafolio\n",
    "si:\n",
    "\n",
    "\n",
    "**a) No hay restricciones?**\n",
    "\n",
    "**b) Debe haber dos instrumentos de renta fija y dos de renta variable?**\n",
    "\n",
    "**c) No debe haber ningún instrumento de renta fija?**\n",
    "\n",
    "**d) Debe haber tres instrumentos de renta fija?**\n",
    "\n",
    "**e) Calcula las probabilidades para los incisos anteriores.**"
   ]
  },
  {
   "cell_type": "markdown",
   "id": "b7e914ac-6cbf-4005-85e7-a72c82941bc3",
   "metadata": {},
   "source": [
    "<div id=ex_14_a></div> \n",
    "\n",
    "---  \n",
    "<span style=\"color: #F44336; font-size: 20px; font-weight: 600;\">Inciso A</span><div id=ex_14_a></div><div id=ex_14_a></div> \n",
    "\n",
    "**a) No hay restricciones?**\n",
    "\n",
    "Dado que se necesita formar combinaciones de **4** elementos a partir de un total de **11** elementos (cinco de renta fija y seis de renta variable). Es fundamental destacar que, para este ejercicio, el orden en que se seleccionen los elementos no tiene relevancia es por eso que usamos la fórmula de *combinaciones*.\n",
    "\n",
    "$$\n",
    "nCr = \\binom{n}{r} = \\dfrac{n!}{r! \\cdot (n - r)!}\n",
    "$$\n",
    "\n",
    "**Donde**    \n",
    "* **n** es el número total de elementos en el conjunto (11).   \n",
    "* **r** es el número de elementos que se quieren seleccionar (4).  \n",
    "* **!** representa el factorial. \n",
    "\n",
    "**Ahora, sustituimos los valores**\n",
    "\n",
    "$$\n",
    "\\begin{align}\n",
    "    _{11}C_{4} &= \\dfrac{11!}{4! (11 - 4)!}\\\\\n",
    "\\end{align}\n",
    "$$\n",
    "\n",
    "$$\n",
    "\\begin{align}\n",
    "_{11}C_{4} &= \\dfrac{11!}{4! \\cdot 7!}\\\\\n",
    "_{11}C_4 &= \\dfrac{11\\cdot 10\\cdot 9\\cdot 8\\cdot7}{4! \\cdot 7!}\\\\\n",
    "\\end{align}\n",
    "$$\n",
    "\n",
    "$$\n",
    "\\begin{align}\n",
    "    _{11}C_{4} &= \\dfrac{39916800}{120960} = 330\\\\\n",
    "\\end{align}\n",
    "$$\n",
    "\n",
    "**De la cual obtenemos el siguiente resultado**\n",
    "\n",
    "$$\n",
    "\\begin{align}\n",
    "    _{11}C_{4} &= 330\n",
    "\\end{align}\n",
    "$$\n",
    "\n",
    "Por lo tanto, se pueden crear **330** combinaciones de 4 elementos a partir de 11 elementos."
   ]
  },
  {
   "cell_type": "code",
   "execution_count": 2,
   "id": "6302e3e2-00a6-4d39-a115-cd23eaa451f0",
   "metadata": {},
   "outputs": [
    {
     "name": "stdout",
     "output_type": "stream",
     "text": [
      "Respuesta al inciso a) Combinaciones sin restricciones: 330\n"
     ]
    }
   ],
   "source": [
    "import math\n",
    "from math import comb\n",
    "\n",
    "# a) Total combinaciones sin restricciones\n",
    "total_portafolios = comb(11, 4)\n",
    "print(\"Respuesta al inciso a) Combinaciones sin restricciones:\", total_portafolios)"
   ]
  },
  {
   "cell_type": "markdown",
   "id": "fff822e1-e153-4f43-b697-f83b2a380d75",
   "metadata": {},
   "source": [
    "<div id=ex_14_b></div> \n",
    "\n",
    "---  \n",
    "<span style=\"color: #F44336; font-size: 20px; font-weight: 600;\">Inciso B</span><div id=ex_14_b></div><div id=ex_14_b></div> \n",
    "\n",
    "**b) Debe haber dos instrumentos de renta fija y dos de renta variable**\n",
    "\n",
    "Aquí, se seleccionan **2** de los **5** instrumentos de renta fija y **2** de los **6** de renta variable. Aplicamos la fórmula de combinaciones para ambos grupos y multiplicamos los resultados. Comenzamos calculando las combinaciones de cada una de los tipos de renta. \n",
    "  \n",
    "**Renta fija** \n",
    "$$\n",
    "\\begin{align}\n",
    "    _{5}C_{2} &= \\dfrac{5!}{2! (5 - 2)!}\\\\\n",
    "    _{5}C_2 &= \\dfrac{5!}{2!(3)!}\\\\\n",
    "    _{5}C_{2} &= 10\n",
    "\\end{align}\n",
    "$$  \n",
    "  \n",
    "**Renta variable**  \n",
    "$$\n",
    "\\begin{align}\n",
    "    _{6}C_{2} &= \\dfrac{6!}{2! (6 - 2)!}\\\\\n",
    "    _{6}C_2 &= \\dfrac{6!}{2!(4)!}\\\\\n",
    "    _{6}C_{2} &= 15\n",
    "\\end{align}\n",
    "$$  \n",
    "  \n",
    "**Por ultimo, hacemos la multiplicacion de ambos grupos** \n",
    "$$\n",
    "10 \\cdot 15 = 150\n",
    "$$\n",
    "Por lo tanto, se pueden formar **150** combinaciones bajo estas condiciones.\n",
    "\n"
   ]
  },
  {
   "cell_type": "code",
   "execution_count": 4,
   "id": "96636dc3-d34c-4205-b432-2d8190a8313f",
   "metadata": {},
   "outputs": [
    {
     "name": "stdout",
     "output_type": "stream",
     "text": [
      "Respuesta al inciso b) Las 2 Combinaciones con renta fija y 2 con variable son: 150\n"
     ]
    }
   ],
   "source": [
    "# b) Portafolios con 2 de renta fija y 2 variable\n",
    "portafolios_2renta_fija_2variable = comb(5, 2) * comb(6, 2)\n",
    "\n",
    "print(\"Respuesta al inciso b) Las 2 Combinaciones con renta fija y 2 con variable son:\", portafolios_2renta_fija_2variable)"
   ]
  },
  {
   "cell_type": "markdown",
   "id": "eab47222-aad4-4552-860b-cc2c75cc22bd",
   "metadata": {},
   "source": [
    "<div id=ex_14_c></div> \n",
    "\n",
    "---  \n",
    "<span style=\"color: #F44336; font-size: 20px; font-weight: 600;\">Inciso C</span><div id=ex_14_c></div><div id=ex_14_c></div> \n",
    "\n",
    "**c) No debe haber ningún instrumento de renta fija**\n",
    "\n",
    "En este caso, se seleccionan **4** instrumentos de renta variable de un total de **6**, sin incluir los de renta fija.\n",
    "\n",
    "$$\n",
    "\\begin{align}\n",
    "    _{6}C_{4} &= \\dfrac{6!}{4! (6 - 4)!}\\\\\n",
    "    _{6}C_4 &= \\dfrac{6}{4!(2)!}\\\\\n",
    "    _{6}C_{4} &= 15\n",
    "\\end{align}\n",
    "$$ \n",
    "\n",
    "Por lo tanto, hay **15** combinaciones posibles sin incluir renta fija."
   ]
  },
  {
   "cell_type": "code",
   "execution_count": 5,
   "id": "729108bd-d32d-40f1-a6b7-5571991b312c",
   "metadata": {},
   "outputs": [
    {
     "name": "stdout",
     "output_type": "stream",
     "text": [
      "Respuesta al inciso c) Sin incluir renta fija son: 15\n"
     ]
    }
   ],
   "source": [
    "# c) Portafolios sin instrumentos de renta fija\n",
    "portafolios_solo_renta_variable = comb(5, 0) * comb(6, 4)\n",
    "\n",
    "print(\"Respuesta al inciso c) Sin incluir renta fija son:\", portafolios_solo_renta_variable)"
   ]
  },
  {
   "cell_type": "markdown",
   "id": "d3e1ca63-4447-446e-a500-c063b6d314aa",
   "metadata": {},
   "source": [
    "<div id=ex_14_d></div> \n",
    "\n",
    "---  \n",
    "<span style=\"color: #F44336; font-size: 20px; font-weight: 600;\">Inciso D</span><div id=ex_14_d></div><div id=ex_14_d></div> \n",
    "\n",
    "**d) Debe haber tres instrumentos de renta fija**\n",
    "\n",
    "Aquí, se seleccionan **3** de los **5** instrumentos de renta fija y **1** de los **6** de renta variable\n",
    "\n",
    "\n",
    "**Renta fija** \n",
    "$$\n",
    "\\begin{align}\n",
    "    _{5}C_{3} &= \\dfrac{5!}{3! (5 - 3)!}\\\\\n",
    "    _{5}C_3 &= \\dfrac{5!}{3!(2)!}\\\\\n",
    "    _{5}C_{3} &= 10\n",
    "\\end{align}\n",
    "$$  \n",
    "  \n",
    "**Renta variable**  \n",
    "$$\n",
    "\\begin{align}\n",
    "    _{6}C_{1} &= \\dfrac{6!}{1! (6 - 1)!}\\\\\n",
    "    _{6}C_{1} &= \\dfrac{6!}{1!(5)!}\\\\\n",
    "    _{6}C_{1} &= 6\n",
    "\\end{align}\n",
    "$$  \n",
    "  \n",
    "**Multiplicamos los valores obtenidos nos da un resultado de**  \n",
    "$$\n",
    "10 \\cdot 6 = 60\n",
    "$$\n",
    "\n",
    "Por lo tanto, hay **60** combinaciones posibles con estas condiciones."
   ]
  },
  {
   "cell_type": "code",
   "execution_count": 6,
   "id": "6e3e978e-916e-429a-b141-b2907fd0d9c4",
   "metadata": {},
   "outputs": [
    {
     "name": "stdout",
     "output_type": "stream",
     "text": [
      "Respuesta al inciso d): Los 3 de renta fija son: 60\n"
     ]
    }
   ],
   "source": [
    "# d) Portafolios con 3 instrumentos de renta fija\n",
    "portafolios_tres_renta_fija = comb(5, 3) * comb(6, 1)\n",
    "\n",
    "print(\"Respuesta al inciso d): Los 3 de renta fija son:\", portafolios_tres_renta_fija)"
   ]
  },
  {
   "cell_type": "markdown",
   "id": "a00b0ecb-d533-48c6-92ef-824245983299",
   "metadata": {},
   "source": [
    "<div id=ex_14_e></div> \n",
    "\n",
    "---  \n",
    "<span style=\"color: #F44336; font-size: 20px; font-weight: 600;\">Inciso E (Probabilidades)</span><div id=ex_14_e></div><div id=ex_14_e></div> \n",
    "\n",
    "**e) Calcula las probabilidades para los incisos anteriores**\n",
    "\n",
    "Las probabilidades se calculan dividiendo el número de combinaciones específicas de cada inciso entre el total de combinaciones sin restricciones **(330)**. Esto proporciona la probabilidad de que un portafolio cumpla con cada condición.\n",
    "\n",
    "$$ \n",
    "\\begin{align}\n",
    "    P(A) &= \\dfrac{\\text{Combinaciones sin restricciones}}{\\text{Total de combinaciones sin restricciones}}\\\\\n",
    "    P(A) &= \\dfrac{330}{330}\\\\\n",
    "    P(A) &= 1.0\n",
    "\\end{align}\n",
    "$$ \n",
    "Entonces, la probabilidad para el inciso **a)** es de **1.0**\n",
    "\n",
    "$$ \n",
    "\\begin{align}\n",
    "    P(B) &= \\dfrac{\\text{Combinaciones con 2 de renta fija y 2 de renta variable}}{\\text{Total de combinaciones sin restricciones}}\\\\\n",
    "    P(B) &= \\dfrac{150}{330}\\\\\n",
    "    P(B) &= 0.455\n",
    "\\end{align}\n",
    "$$ \n",
    "Entonces, la probabilidad para el inciso **b)** es de **.455**\n",
    "$$ \n",
    "\\begin{align}\n",
    "    P(C) &= \\dfrac{\\text{Combinaciones sin instrumentos de renta fija}}{\\text{Total de combinaciones sin restricciones}}\\\\\n",
    "    P(C) &= \\dfrac{15}{330}\\\\\n",
    "    P(C) &= 0.045\n",
    "\\end{align}\n",
    "$$ \n",
    "Entonces, la probabilidad para el inciso **c)** es de **0.045**\n",
    "$$ \n",
    "\\begin{align}\n",
    "    P(D) &= \\dfrac{\\text{Combinaciones con 3 de renta fija}}{\\text{Total de combinaciones sin restricciones}}\\\\\n",
    "    P(D) &= \\dfrac{60}{330}\\\\\n",
    "    P(D) &= 0.182\n",
    "\\end{align}\n",
    "$$ \n",
    "Entonces, la probabilidad para el inciso **d)** es de **.182**"
   ]
  },
  {
   "cell_type": "code",
   "execution_count": 9,
   "id": "2f298a6b-4b77-40d4-8237-d8b0eed1f7c6",
   "metadata": {},
   "outputs": [
    {
     "name": "stdout",
     "output_type": "stream",
     "text": [
      "La probabilidad del inciso a): 1.0\n",
      "La probabilidad del inciso b): 0.455\n",
      "La probabilidad del inciso c): 0.045\n",
      "La probabilidad del inciso d): 0.182\n"
     ]
    }
   ],
   "source": [
    "# e) Cálculo de probabilidades\n",
    "probabilidad_a = total_portafolios / total_portafolios\n",
    "probabilidad_b = portafolios_2renta_fija_2variable / total_portafolios\n",
    "probabilidad_c = portafolios_solo_renta_variable / total_portafolios\n",
    "probabilidad_d = portafolios_tres_renta_fija / total_portafolios\n",
    "\n",
    "# Probabilidades (Las probabilidades son redondeadas a 3 decimas\"round\")\n",
    "print(\"La probabilidad del inciso a):\", round(probabilidad_a,3))\n",
    "print(\"La probabilidad del inciso b):\", round(probabilidad_b,3))\n",
    "print(\"La probabilidad del inciso c):\", round(probabilidad_c,3))\n",
    "print(\"La probabilidad del inciso d):\", round(probabilidad_d,3))"
   ]
  },
  {
   "cell_type": "markdown",
   "id": "78823f4b",
   "metadata": {},
   "source": [
    "<div id=ex_15></div> \n",
    "\n",
    "---  \n",
    "<span style=\"color: #61C2FF; font-size: 23px; font-weight: 600;\">Ejercicio 15</span><div id=ex_15></div>  \n",
    "**Futbol.** Tres parejas (tres hombres y tres mujeres) compran boletos para ir a un partido de los \n",
    "Pumas. Cuando llegan al estadio de Ciudad Universitaria les surge la duda de cómo sentarse en \n",
    "la fila. ¿De cuántas maneras pueden hacerlo si:   \n",
    "\n",
    "\n",
    "**a) No hay restricciones?**\n",
    "\n",
    "**b) Los hombres deben sentarse juntos?**\n",
    "\n",
    "**c) Deben sentarse por parejas?**\n",
    "\n",
    "**¿Cuál es la probabilidad de cada uno de los eventos descritos en los incisos anteriores?**"
   ]
  },
  {
   "cell_type": "markdown",
   "id": "6c8d1623",
   "metadata": {},
   "source": [
    "<div id=ex_15_a></div> \n",
    "\n",
    "---  \n",
    "<span style=\"color: #F44336; font-size: 20px; font-weight: 600;\">Inciso A</span><div id=ex_15_a></div><div id=ex_15_a></div>\n",
    "\n",
    "**a) No hay restricciones?**\n",
    "Se cuenta con 6 elementos, es decir, 3 hombres y 3 mujeres, entonces se realiza la siguiente permutación:\n",
    "\n",
    "**6! =** $6 \\cdot 5 \\cdot 4 \\cdot 3 \\cdot 2 \\cdot 1 = 720$. *Se pueden sentar en la fila de 720 maneras diferentes*."
   ]
  },
  {
   "cell_type": "code",
   "execution_count": 5,
   "id": "8469b1b5",
   "metadata": {},
   "outputs": [
    {
     "name": "stdout",
     "output_type": "stream",
     "text": [
      "Resultado:  720\n"
     ]
    }
   ],
   "source": [
    "# Implementacion de la solucion del inciso a) del ejercicio 15\n",
    "\n",
    "resultado = math.factorial(6)\n",
    "print(\"Resultado: \", resultado)"
   ]
  },
  {
   "cell_type": "markdown",
   "id": "49b7a790",
   "metadata": {},
   "source": [
    "<div id=ex_15_b></div> \n",
    "\n",
    "---  \n",
    "<span style=\"color: #F44336; font-size: 20px; font-weight: 600;\">Inciso B</span><div id=ex_15_b></div><div id=ex_15_b></div>\n",
    "\n",
    "**b) Los hombres deben sentarse juntos?**\n",
    "De acuerdo a la misma cantidad de elementos (3 hombres + 3 mujeres = 6 elementos) se deben hacer las siguientes operaciones: \n",
    "Tomando en cuenta que los hombres deben estar juntos, se tomarán como un solo bloque o un super-elemento, así que ahora tenemos 4 en total contemplando a las 3 mujeres. Prosiguiendo, se realiza el factorial con los 4 elementos que tenemos: \n",
    "\n",
    "**4! =** $4  \\cdot 3 \\cdot 2 \\cdot 1 = 24$.\n",
    "\n",
    "También debemos realizar el factorial del bloque que contiene los 3 elementos correspondientes a los hombres:\n",
    "\n",
    "**3! =** $ 3 \\cdot 2 \\cdot 1 = 6$.\n",
    "\n",
    "Por último se multiplican los resultados de ambos factoriales:\n",
    "\n",
    " $ 24 \\cdot 6 = 144$. *Se pueden sentar de 144 maneras diferentes si los hombres se sientan juntos*."
   ]
  },
  {
   "cell_type": "code",
   "execution_count": 6,
   "id": "22847f0b",
   "metadata": {},
   "outputs": [
    {
     "name": "stdout",
     "output_type": "stream",
     "text": [
      "Pueden hacerlo de  144 maneras. \n"
     ]
    }
   ],
   "source": [
    "# Implementacion de la solucion del inciso b) del ejercicio 15\n",
    "\n",
    "factorial_4 = math.factorial(4)\n",
    "\n",
    "factorial_3 = math.factorial(3)\n",
    "\n",
    "resultado = factorial_4 * factorial_3\n",
    "\n",
    "print(\"Pueden hacerlo de \", resultado, \"maneras. \")"
   ]
  },
  {
   "cell_type": "markdown",
   "id": "ff648678",
   "metadata": {},
   "source": [
    "<div id=ex_15_c></div> \n",
    "\n",
    "---  \n",
    "<span style=\"color: #F44336; font-size: 20px; font-weight: 600;\">Inciso C</span><div id=ex_15_c></div><div id=ex_15_c></div>\n",
    "\n",
    "Se considera que cada pareja, integrada por un hombre y una mujer, formará un bloque para dar lugar a 3 bloques en total, entonces se debe efectuar el factorial de dicha cantidad.  \n",
    "\n",
    "**3! =** $ 3 \\cdot 2 \\cdot 1 = 6$.\n",
    "\n",
    "Cada elemento del bloque puede cambiar de orden: Hombre y mujer o mujer y hombre. Dando lugar dos maneras de ordenarlos por bloque.\n",
    "\n",
    "$2 \\cdot 2\\cdot 2 = 8$.\n",
    "\n",
    "Por lo tanto:\n",
    "$ 6 \\cdot 8 = 48$ *maneras*."
   ]
  },
  {
   "cell_type": "code",
   "execution_count": 7,
   "id": "3244ad1e",
   "metadata": {},
   "outputs": [
    {
     "name": "stdout",
     "output_type": "stream",
     "text": [
      "Hay  48  maneras de sentarse en parejas.\n"
     ]
    }
   ],
   "source": [
    "# Implementacion de la solucion del inciso c) del ejercicio 15\n",
    "\n",
    "factorial_3 = math.factorial(3)\n",
    "\n",
    "orden = 2 * 2 * 2\n",
    "\n",
    "resultado =  factorial_3 * orden\n",
    "\n",
    "print(\"Hay \", resultado, \" maneras de sentarse en parejas.\")"
   ]
  },
  {
   "cell_type": "markdown",
   "id": "8fc1e99d",
   "metadata": {},
   "source": [
    "<div id=ex_15_d></div> \n",
    "\n",
    "---  \n",
    "<span style=\"color: #F44336; font-size: 20px; font-weight: 600;\">Inciso D</span><div id=ex_15_d></div><div id=ex_15_d></div>\n",
    "\n",
    "La siguiente fórmula se aplica a cada uno de los casos:\n",
    "\n",
    "$$\n",
    "\\begin{align}\n",
    "     P(\\text{evento}) = \\frac{\\# \\text{ de casos favorables}}{\\# \\text{ de casos totales}} \n",
    "\\end{align}\n",
    "$$\n",
    "\n",
    "\n",
    "Para el inciso a, la probabilidad de que ocurra este evento es:\n",
    "\n",
    "$$\n",
    "\\begin{align} \n",
    "    P &= \\dfrac{720}{720} = 1\\\\\n",
    "\\end{align}\n",
    "$$\n",
    "\n",
    "Para el inciso b, la probabilidad de que ocurra este evento es:\n",
    "\n",
    "$$\n",
    "\\begin{align} \n",
    "    P &= \\dfrac{144}{720} = 0.2\\\\\n",
    "\\end{align}\n",
    "$$\n",
    "\n",
    "Para el inciso c, la probabilidad de que ocurra este evento es:\n",
    "\n",
    "$$\n",
    "\\begin{align} \n",
    "    P &= \\dfrac{48}{720} = 0.0666\\\\\n",
    "\\end{align}\n",
    "$$"
   ]
  },
  {
   "cell_type": "code",
   "execution_count": 8,
   "id": "5800999e",
   "metadata": {},
   "outputs": [
    {
     "name": "stdout",
     "output_type": "stream",
     "text": [
      "Probabilidad de inciso a: \n",
      "1.0\n",
      "Probabilidad de inciso b: \n",
      "0.2\n",
      "Probabilidad de inciso c: \n",
      "0.06666666666666667\n"
     ]
    }
   ],
   "source": [
    "# Implementacion de la solucion del inciso d) del ejercicio 15\n",
    "print(\"Probabilidad de inciso a: \")\n",
    "print(720/720)\n",
    "\n",
    "print(\"Probabilidad de inciso b: \")\n",
    "print(144/720)\n",
    "\n",
    "print(\"Probabilidad de inciso c: \")\n",
    "print(48/720)"
   ]
  },
  {
   "cell_type": "markdown",
   "id": "e390fd6f-b47e-49e2-a77f-0eada998015b",
   "metadata": {},
   "source": [
    "<div id=ex_16></div>  \n",
    "\n",
    "---  \n",
    "<span style=\"color: #61C2FF; font-size: 23px; font-weight: 600;\">Ejercicio 16</span><div id=ex_16></div>\n",
    "\n",
    "**Trabajo en equipo.** En un grupo de 25 alumnos hay 13 chicas y 12 chicos. Se desean formar\n",
    "equipos de trabajo para realizar una investigación:\n",
    "\n",
    "\n",
    "**a) ¿Cuántos equipos de cinco personas pueden formarse?**\n",
    "\n",
    "**b) ¿Cuántos equipos pueden formarse si debe haber una chica?**\n",
    "\n",
    "**c) ¿Cuántos equipos pueden formarse si debe haber dos chicas?**\n",
    "\n",
    "**d) Determina las probabilidades correspondientes a los incisos anteriores.**"
   ]
  },
  {
   "cell_type": "markdown",
   "id": "c399b765-89da-4b93-b13b-bff331d7f78e",
   "metadata": {},
   "source": [
    "<div id=ex_16_a></div> \n",
    "\n",
    "---  \n",
    "<span style=\"color: #F44336; font-size: 20px; font-weight: 600;\">Inciso A</span><div id=ex_16_a></div><div id=ex_16_a></div> \n",
    "\n",
    "**a) ¿Cuántos equipos de cinco personas pueden formarse?**\n",
    "\n",
    "En este caso, necesitamos formar combinaciones de **5** personas a partir de un total de **25** alumnos (13 chicas y 12 chicos). Es fundamental destacar que, para este ejercicio, el orden en que se seleccionen los elementos no tiene relevancia es por eso que usamos la fórmula de *combinaciones*.\n",
    "\n",
    "$$\n",
    "nCr = \\binom{n}{r} = \\dfrac{n!}{r! \\cdot (n - r)!}\n",
    "$$\n",
    "\n",
    "Donde:    \n",
    "* **n** es el número total de elementos (25).  \n",
    "* **r** es el número de elementos a seleccionar (5)  \n",
    "* **!** representa el factorial.  \n",
    "\n",
    "**Sustituyendo los valores**  \n",
    "$$\n",
    "\\begin{align}\n",
    "    _{25}C_{5} &= \\dfrac{25!}{5! (25 - 5)!}\\\\\n",
    "    _{25}C_{5} &= \\dfrac{25!}{5! \\cdot 20!} \\\\\n",
    "\\end{align}\n",
    "$$\n",
    "\n",
    "$$\n",
    "\\begin{align}\n",
    "_{25}C_{5} &= \\dfrac{25 \\cdot 24 \\cdot 23 \\cdot 22 \\cdot 21}{5 \\cdot 4 \\cdot 3 \\cdot 2 \\cdot 1} \\\\\n",
    "\\end{align}\n",
    "$$\n",
    "**De la cual obtenemos el siguiente resultado**\n",
    "$$\n",
    "\\begin{align}\n",
    "_{25}C_{5} &= 53130\n",
    "\\end{align}\n",
    "$$\n",
    "\n",
    "Por lo tanto, obtenemos un total de **53130** combinaciones posibles."
   ]
  },
  {
   "cell_type": "code",
   "execution_count": 10,
   "id": "d34eb65d-300b-4832-a0c0-e1e51f9fa8fb",
   "metadata": {},
   "outputs": [
    {
     "name": "stdout",
     "output_type": "stream",
     "text": [
      "Respuesta al inciso a) El total de equipos de 5 personas son: 53130\n"
     ]
    }
   ],
   "source": [
    "# a) Total de equipos de cinco personas\n",
    "total_equipos_cinco_personas = comb(25, 5)\n",
    "\n",
    "print(\"Respuesta al inciso a) El total de equipos de 5 personas son:\", total_equipos_cinco_personas)"
   ]
  },
  {
   "cell_type": "markdown",
   "id": "aead513c-f27e-48fb-9a7e-dfa796e445fa",
   "metadata": {},
   "source": [
    "<div id=ex_16_b></div> \n",
    "\n",
    "---  \n",
    "<span style=\"color: #F44336; font-size: 20px; font-weight: 600;\">Inciso B</span><div id=ex_16_b></div><div id=ex_16_b></div> \n",
    "\n",
    "**b) ¿Cuántos equipos pueden formarse si debe haber una chica?**\n",
    "\n",
    "Aquí, se selecciona **1** chica de las **13** disponibles y **4** chicos de los **12**. Aplicamos la fórmula de combinaciones para ambos grupos y multiplicamos los resultados\n",
    "\n",
    "Comenzamos calculando las combinaciones de cada grupo. \n",
    "  \n",
    "**Para las chicas**\n",
    "$$\n",
    "\\begin{align}\n",
    "    _{13}C_{1} &= \\dfrac{13!}{1! (13 - 1)!}\\\\\n",
    "    _{13}C_{1} &= \\dfrac{13!}{1! \\cdot 12!} \\\\\n",
    "    _{13}C_{1} &= 13\n",
    "\\end{align}\n",
    "$$  \n",
    "  \n",
    "**Para los chicos**  \n",
    "$$\n",
    "\\begin{align}\n",
    "    _{12}C_{4} &= \\dfrac{12!}{4! (12 - 4)!}\\\\\n",
    "    _{12}C_{4} &= \\dfrac{12!}{4! \\cdot 8!} \\\\\n",
    "    _{12}C_{4} &= 495\n",
    "\\end{align}\n",
    "$$  \n",
    "  \n",
    "**Como se deben elegir 4 chicos y una chica para el mismo equipo, se multiplican ambos resultados** \n",
    "$$\n",
    "13 \\cdot 495\n",
    "$$\n",
    "**De los cuales obtendremos**\n",
    "$$\n",
    "6435\n",
    "$$"
   ]
  },
  {
   "cell_type": "code",
   "execution_count": 11,
   "id": "b87f8569-cc94-4987-8a6f-bf531ebbf683",
   "metadata": {},
   "outputs": [
    {
     "name": "stdout",
     "output_type": "stream",
     "text": [
      "Respuesta al inciso b) Los equipos con almenos una chica son: 6435\n"
     ]
    }
   ],
   "source": [
    "# b) Equipos con al menos una chica\n",
    "equipos_almenos_una_chica = comb(12, 4) * comb(13, 1)\n",
    "\n",
    "print(\"Respuesta al inciso b) Los equipos con almenos una chica son:\", equipos_almenos_una_chica)"
   ]
  },
  {
   "cell_type": "markdown",
   "id": "9795d5f2-5d4f-47c5-8f4c-49a1e4b01e4c",
   "metadata": {},
   "source": [
    "<div id=ex_16_c></div> \n",
    "\n",
    "---  \n",
    "<span style=\"color: #F44336; font-size: 20px; font-weight: 600;\">Inciso C</span><div id=ex_16_c></div><div id=ex_16_c></div> \n",
    "\n",
    "**c) ¿Cuántos equipos pueden formarse si debe haber dos chicas?**\n",
    "\n",
    "En este caso, se seleccionan **2** chicas de las **13** y **3** chicos de los **12**\n",
    "\n",
    "**Para las chicas**\n",
    "$$\n",
    "\\begin{align}\n",
    "_{13}C_{2} &= \\dfrac{13!}{2!(13 - 2)!}\\\\\n",
    "_{13}C_{2} &= \\dfrac{13!}{2! \\cdot 11!} \\\\\n",
    "_{13}C_{2} &= 78\n",
    "\\end{align}\n",
    "$$\n",
    "**Para los chicos**\n",
    "\n",
    "$$\n",
    "\\begin{align}\n",
    "_{12}C_{3} &= \\frac{12!}{3!(12 - 3)!}\\\\\n",
    "_{12}C_{3} &= \\dfrac{12!}{3! \\cdot 9!} \\\\\n",
    "_{12}C_{3} &= 220\n",
    "\\end{align}\n",
    "$$\n",
    "**Entonces, al multiplicar los valores obtenidos, tenemos**\n",
    "$$\n",
    "78 \\cdot 220 = 17160\n",
    "$$"
   ]
  },
  {
   "cell_type": "code",
   "execution_count": 12,
   "id": "7fa8c9e1-f004-41de-9082-c0ae396adbc5",
   "metadata": {},
   "outputs": [
    {
     "name": "stdout",
     "output_type": "stream",
     "text": [
      "Respuesta al inciso c) Los equipos con al menos dos chicas son: 17160\n"
     ]
    }
   ],
   "source": [
    "# c) Equipos con al menos dos chicas\n",
    "equipos_dos_chicas = comb(12, 3) * comb(13, 2)\n",
    "\n",
    "print(\"Respuesta al inciso c) Los equipos con al menos dos chicas son:\", equipos_dos_chicas)"
   ]
  },
  {
   "cell_type": "markdown",
   "id": "267570a1-e1e5-45e0-8e4e-b51eac1959ee",
   "metadata": {},
   "source": [
    "<div id=ex_16_d></div> \n",
    "\n",
    "---  \n",
    "<span style=\"color: #F44336; font-size: 20px; font-weight: 600;\">Inciso D</span><div id=ex_16_d></div><div id=ex_16_d></div> \n",
    "\n",
    "**d) Determina las probabilidades correspondientes a los incisos anteriores**\n",
    "\n",
    "$$ \n",
    "\\begin{align}\n",
    "    P(A) &= \\dfrac{\\text{Total de combinaciones sin restricciones}}{\\text{Total de combinaciones sin restricciones}}\\\\\n",
    "    P(A) &= \\dfrac{53130}{53130}\\\\\n",
    "    P(A) &= 1.0\n",
    "\\end{align}\n",
    "$$ \n",
    "Entonces, la probabilidad para el inciso **a)** es de **1.0**\n",
    "\n",
    "$$ \n",
    "\\begin{align}\n",
    "    P(B) &= \\dfrac{\\text{Combinaciones con exactamente dos chicas}}{\\text{Total de combinaciones sin restricciones}}\\\\\n",
    "    P(B) &= \\dfrac{6435}{53130}\\\\\n",
    "    P(B) &= 0.121\n",
    "\\end{align}\n",
    "$$ \n",
    "Entonces, la probabilidad para el inciso **b)** es de **0.121**\n",
    "$$ \n",
    "\\begin{align}\n",
    "    P(C) &= \\dfrac{\\text{Combinaciones sin instrumentos de renta fija}}{\\text{Total de combinaciones sin restricciones}}\\\\\n",
    "    P(C) &= \\dfrac{17160}{53130}\\\\\n",
    "    P(C) &= 0.323\n",
    "\\end{align}\n",
    "$$ \n",
    "Entonces, la probabilidad para el inciso **c)** es de **0.323**"
   ]
  },
  {
   "cell_type": "code",
   "execution_count": 13,
   "id": "18eb5a28-5e6d-49c4-aef6-231c7ce04e53",
   "metadata": {},
   "outputs": [
    {
     "name": "stdout",
     "output_type": "stream",
     "text": [
      "La probabilidad del inciso a): 1.0\n",
      "La probabilidad del inciso b): 0.121\n",
      "La probabilidad del inciso c): 0.323\n"
     ]
    }
   ],
   "source": [
    "# d) Cálculo de probabilidades\n",
    "probabilidad_a = total_equipos_cinco_personas / total_equipos_cinco_personas\n",
    "probabilidad_b = equipos_almenos_una_chica / total_equipos_cinco_personas\n",
    "probabilidad_c = equipos_dos_chicas / total_equipos_cinco_personas\n",
    "\n",
    "# Probabilidades (Las probabilidades son redondeadas a 3 decimas\"round\")\n",
    "print(\"La probabilidad del inciso a):\", round(probabilidad_a,3))\n",
    "print(\"La probabilidad del inciso b):\", round(probabilidad_b,3))\n",
    "print(\"La probabilidad del inciso c):\", round(probabilidad_c,3))"
   ]
  },
  {
   "cell_type": "markdown",
   "id": "b8cf7637-2765-4613-a816-0f293e701b40",
   "metadata": {},
   "source": [
    "<div id=ex_17></div>  \n",
    "\n",
    "---  \n",
    "<span style=\"color: #61C2FF; font-size: 23px; font-weight: 600;\">Ejercicio 17</span><div id=ex_17></div>\n",
    "\n",
    "**Control de calidad.** Se tiene una caja con 24 latas y se sabe que dos están contaminadas. Se van\n",
    "a seleccionar tres latas al azar para someterlas a una prueba de control de calidad, es decir, para\n",
    "medir los estándares de calidad de la empresa.\n",
    "\n",
    "\n",
    "**a) ¿Cuántas combinaciones de tres latas pueden hacerse?**\n",
    "\n",
    "**b) ¿Cuál es la probabilidad de que se seleccione una lata contaminada para la prueba?**\n",
    "\n",
    "**c) ¿Cuál es la probabilidad de que se seleccione al menos una lata contaminada para la prueba?**\n",
    "\n",
    "**d) ¿Y la probabilidad de que no se elijan latas contaminadas para la prueba?**"
   ]
  },
  {
   "cell_type": "markdown",
   "id": "351a91b3-b17b-42dc-888a-eb06ca2eaee9",
   "metadata": {},
   "source": [
    "<div id=ex_17_a></div> \n",
    "\n",
    "---  \n",
    "<span style=\"color: #F44336; font-size: 20px; font-weight: 600;\">Inciso A</span><div id=ex_17_a></div><div id=ex_17_a></div> \n",
    "\n",
    "**a) ¿Cuántas combinaciones de tres latas pueden hacerse?**\n",
    "\n",
    "Para calcular el número de combinaciones posibles de seleccionar tres latas de un total de 24, utilizamos la fórmula de combinaciones.\n",
    "\n",
    "$$\n",
    "nCr = \\binom{n}{r} = \\dfrac{n!}{r! \\cdot (n - r)!}\n",
    "$$\n",
    "\n",
    "Donde:    \n",
    "* **n** es el número total de elementos (24)\n",
    "* **r** es el número de elementos a seleccionar (3) \n",
    "* **!** representa el factorial.  \n",
    "\n",
    "Remplazando los valores tenemos:  \n",
    "$$\n",
    "\\begin{align}\n",
    "    _{24}C_{3} &= \\dfrac{24!}{3! (24 - 3)!}\\\\\n",
    "    _{24}C_{3} &= \\dfrac{24!}{3! \\cdot 21!}\\\\\n",
    "    _{24}C_{3} &= \\dfrac{24 \\cdot 23 \\cdot 22}{6} \\\\\n",
    "    _{24}C_{3} &= 2024\n",
    "\\end{align}\n",
    "$$\n",
    "  \n",
    "Por lo que podemos crear **2024** combinaciones posibles de seleccionar tres latas de la caja."
   ]
  },
  {
   "cell_type": "code",
   "execution_count": 15,
   "id": "12bd732e-b08e-451f-ada7-6644151bd4b7",
   "metadata": {},
   "outputs": [
    {
     "name": "stdout",
     "output_type": "stream",
     "text": [
      "Respuesta al inciso a) El total de combinaciones de 3 latas son: 2024\n"
     ]
    }
   ],
   "source": [
    "# a) Total de combinaciones de tres latas \n",
    "total_combinaciones = comb(24, 3)\n",
    "\n",
    "print(\"Respuesta al inciso a) El total de combinaciones de 3 latas son:\", total_combinaciones)"
   ]
  },
  {
   "cell_type": "markdown",
   "id": "b2f457e4-5419-43c3-93f5-71d8f84f52fb",
   "metadata": {},
   "source": [
    "<div id=ex_17_b></div> \n",
    "\n",
    "---  \n",
    "<span style=\"color: #F44336; font-size: 20px; font-weight: 600;\">Inciso B</span><div id=ex_17_b></div><div id=ex_17_b></div> \n",
    "\n",
    "**b) ¿Cuál es la probabilidad de que se seleccione una lata contaminada para la prueba?**\n",
    "\n",
    "\n",
    "Para calcular la probabilidad de seleccionar una lata contaminada, necesitamos conocer el número total de combinaciones (calculado en el inciso **a**) y el número de combinaciones favorables. La probabilidad se podría interpretar como\n",
    "\n",
    "\n",
    "$$\n",
    "\\begin{align}\n",
    "      \\text{Probabilidad del evento} &= \\dfrac{\\text{Casos favorables}}{\\text{Casos totales}}\n",
    "\\end{align}\n",
    "$$\n",
    "\n",
    "$$\n",
    "\\begin{align}\n",
    "    _{22}C_2 &= \\dfrac{22!}{2! \\cdot (22 - 2)!}\\\\\n",
    "    _{22}C_2 &= \\dfrac{22!}{2! \\cdot 20!}\\\\\n",
    "    _{22}C_2 &= \\dfrac{22 \\cdot 21}{2} \\dfrac{20!}{20!}\\\\\n",
    "    _{22}C_2 &= \\dfrac{462}{2}\\\\\n",
    "    _{22}C_2 &= 231\n",
    "\\end{align}\n",
    "$$\n",
    "\n",
    "Como se deben elegir 2 latas en buen estado y 1 contaminada para la prueba se multiplican los dos resultados\n",
    "\n",
    "$$\n",
    "\\begin{align}\n",
    "    _{22}C_2 \\cdot _2C_1 &= 231 \\cdot 2 = 462\n",
    "\\end{align}\n",
    "$$  \n",
    "\n",
    "$$\n",
    "\\begin{align}\n",
    "    P\\text{(Al menos una lata contaminada)} &= \\dfrac{462}{2024} = 0.228\n",
    "\\end{align}\n",
    "$$  \n",
    "\n",
    "Entonces, la probabilidad para el inciso **b)** es de **0.228**"
   ]
  },
  {
   "cell_type": "code",
   "execution_count": 16,
   "id": "e714d1c0-43dd-4ec2-8485-4da9607a463f",
   "metadata": {},
   "outputs": [
    {
     "name": "stdout",
     "output_type": "stream",
     "text": [
      "Respuesta al inciso b) La probabilidad de seleccionar una lata contaminada es de: 0.228\n"
     ]
    }
   ],
   "source": [
    "# b) Probabilidad de seleccionar una lata contaminada (las probabilidades son redondeadas a 3 decimas\"round\")\n",
    "combinaciones_una_contaminada = comb(22, 2) * comb(2, 1)\n",
    "probabilidad_una_contaminada = combinaciones_una_contaminada / total_combinaciones\n",
    "\n",
    "print(\"Respuesta al inciso b) La probabilidad de seleccionar una lata contaminada es de:\", round(probabilidad_una_contaminada, 3))"
   ]
  },
  {
   "cell_type": "markdown",
   "id": "5285c3e0-c786-46ef-b3f3-0f1e4f3ba466",
   "metadata": {},
   "source": [
    "<div id=ex_17_c></div> \n",
    "\n",
    "---  \n",
    "<span style=\"color: #F44336; font-size: 20px; font-weight: 600;\">Inciso C</span><div id=ex_17_c></div><div id=ex_17_c></div> \n",
    "\n",
    "**c) Probabilidad de seleccionar exactamente dos latas contaminadas**\n",
    "\n",
    "Se tienen **22** latas en buen estado y **2** contaminadas. Para determinar los casos favorables, se multiplica el número de combinaciones de **22** latas en buen estado por las combinaciones posibles de **2** latas contaminadas.\n",
    "\n",
    "**1 lata en buen estado**  \n",
    "\n",
    "\n",
    "$$\n",
    "\\begin{align}\n",
    "    _{22}C_1 &= \\dfrac{22!}{1! \\cdot (22 - 1)!}\\\\\n",
    "    _{22}C_1 &= \\dfrac{22!}{1 \\cdot 21!}\\\\\n",
    "    _{22}C_1 &= 22\n",
    "\\end{align}\n",
    "$$\n",
    "**2 latas contaminadas**  \n",
    "\n",
    "$$\n",
    "\\begin{align}\n",
    "    _{2}C_2 &= \\dfrac{2!}{2! \\cdot (2 - 2)!}\\\\\n",
    "    _{2}C_2 &= \\dfrac{2}{2 - 0!}\\\\\n",
    "    _{2}C_2 &= 1\n",
    "\\end{align}\n",
    "$$\n",
    "\n",
    "$$\n",
    "\\begin{align}\n",
    "    P(\\text{Al menos una lata contaminada}) &= 0.239\n",
    "\\end{align}\n",
    "$$\n",
    "Entonces, la probabilidad para el inciso **c)** es de **0.239**"
   ]
  },
  {
   "cell_type": "code",
   "execution_count": 17,
   "id": "bcd820d0-1463-4c22-8f06-94b5d13055b3",
   "metadata": {},
   "outputs": [
    {
     "name": "stdout",
     "output_type": "stream",
     "text": [
      "Respuesta al inciso c) La probabilidad de al menos una lata contaminada es: 0.239\n"
     ]
    }
   ],
   "source": [
    "# c) Probabilidad de seleccionar al menos una lata contaminada\n",
    "combinaciones_dos_contaminadas = comb(22, 1) * comb(2, 2)\n",
    "probabilidad_dos_contaminadas = combinaciones_dos_contaminadas / total_combinaciones\n",
    "probabilidad_al_menos_una_contaminada = probabilidad_una_contaminada + probabilidad_dos_contaminadas\n",
    "\n",
    "print(\"Respuesta al inciso c) La probabilidad de al menos una lata contaminada es:\", round(probabilidad_al_menos_una_contaminada, 3))"
   ]
  },
  {
   "cell_type": "markdown",
   "id": "02be953d-73e7-41a6-86f7-706bf8afddaa",
   "metadata": {},
   "source": [
    "<div id=ex_17_d></div> \n",
    "\n",
    "---  \n",
    "<span style=\"color: #F44336; font-size: 20px; font-weight: 600;\">Inciso D</span><div id=ex_17_d></div><div id=ex_17_d></div> \n",
    "\n",
    "**d) Probabilidad de no seleccionar latas contaminadas**\n",
    "\n",
    "Para calcular la probabilidad de no seleccionar latas contaminadas, multiplicamos el número de combinaciones de **22** latas en buen estado por las combinaciones posibles de **0** latas contaminadas, y también por las combinaciones de 3 latas en buen estado.\n",
    "\n",
    "**3 latas en buen estado**  \n",
    "\n",
    "$$\n",
    "\\begin{align}\n",
    "    _{22}C_3 &= \\dfrac{22!}{3! \\cdot (22 - 3)!}\\\\\n",
    "    _{22}C_3 &= \\dfrac{22!}{3! \\cdot 19!}\\\\\n",
    "    _{22}C_3 &= 1540\n",
    "\\end{align}\n",
    "$$\n",
    "\n",
    "**0 latas contaminadas**  \n",
    " \n",
    "$$\n",
    "\\begin{align}\n",
    "    _{2}C_0 &= \\dfrac{2!}{0! \\cdot (2 - 0)!}\\\\\n",
    "    _{2}C_0 &= \\dfrac{2}{1 \\cdot 2!}\\\\\n",
    "    _{2}C_0 &= 1\n",
    "\\end{align}\n",
    "$$  \n",
    "\n",
    "$$\n",
    "\\begin{align}\n",
    "    P(\\text{Al menos una lata contaminada}) &= 0.761\n",
    "\\end{align}\n",
    "$$\n",
    "Entonces, la probabilidad para el inciso **d)** es de **0.761**"
   ]
  },
  {
   "cell_type": "code",
   "execution_count": 18,
   "id": "d93ea3ee-3990-4248-a516-567cca4822a8",
   "metadata": {},
   "outputs": [
    {
     "name": "stdout",
     "output_type": "stream",
     "text": [
      "Respuesta al inciso d) La probabilidad de no seleccionar latas contaminadas es de: 0.761\n"
     ]
    }
   ],
   "source": [
    "# d) Probabilidad de no seleccionar latas contaminadas\n",
    "combinaciones_no_contaminadas = comb(22, 3) * comb(2, 0)\n",
    "probabilidad_no_contaminadas = combinaciones_no_contaminadas / total_combinaciones\n",
    "\n",
    "print(\"Respuesta al inciso d) La probabilidad de no seleccionar latas contaminadas es de:\", round(probabilidad_no_contaminadas, 3))"
   ]
  }
 ],
 "metadata": {
  "kernelspec": {
   "display_name": "Python 3 (ipykernel)",
   "language": "python",
   "name": "python3"
  },
  "language_info": {
   "codemirror_mode": {
    "name": "ipython",
    "version": 3
   },
   "file_extension": ".py",
   "mimetype": "text/x-python",
   "name": "python",
   "nbconvert_exporter": "python",
   "pygments_lexer": "ipython3",
   "version": "3.12.4"
  }
 },
 "nbformat": 4,
 "nbformat_minor": 5
}
