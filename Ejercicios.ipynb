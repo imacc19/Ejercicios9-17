{
 "cells": [
  {
   "cell_type": "markdown",
   "id": "d187719e-66ab-49be-b9d4-601dd8307552",
   "metadata": {},
   "source": [
    "# Ejercicios de la pagina 117 del libro de Probabilidad y Estadistica"
   ]
  },
  {
   "cell_type": "markdown",
   "id": "43d4772c-6250-4d27-a178-dcd4d9d07e9e",
   "metadata": {},
   "source": [
    "# Ejercicio 9\n",
    "\n",
    "**Sólo para practicar.** Los números telefónicos en la ciudad de Cuernavaca, Morelos, constan de siete dígitos.\n",
    "\n",
    "\n",
    "\n",
    "**a) ¿Cuántas líneas telefónicas pueden crearse en esa ciudad? Recuerda que no pueden comenzar con cero.**\n",
    "\n",
    "**b) Si los tres primeros dígitos representan una zona de Cuernavaca, ¿cuántas líneas telefónicas pertenecen a la zona 326?**"
   ]
  },
  {
   "cell_type": "code",
   "execution_count": null,
   "id": "ab53d3e3",
   "metadata": {},
   "outputs": [],
   "source": [
    "n1 = 9\n",
    "otros = 10**6\n",
    "total = n1 * otro\n",
    "\n",
    "print(\"a) Cantidad total de líneas telefónicas posibles en Cuernavaca:\", total)\n",
    "\n",
    "res =(1*1*1*10**4)\n",
    "print(\"b) Cantidad de líneas telefónicas en la zona 326:\", res)"
   ]
  },
  {
   "cell_type": "markdown",
   "id": "a5cd4963-5488-4aed-809f-96319ae425ac",
   "metadata": {},
   "source": [
    "# Ejercicio 10\n",
    "\n",
    "**Sólo para practicar.** Se tiene la palabra MURCIÉLAGO. Si no se permiten repeticiones al usar\n",
    "las letras que la forman, determina:\n",
    "\n",
    "\n",
    "**a) El número de palabras que puedes crear.**\n",
    "\n",
    "**b) El número de palabras con cinco letras.**\n",
    "\n",
    "**c) La probabilidad de que una palabra de cinco letras termine en vocal.**"
   ]
  },
  {
   "cell_type": "code",
   "execution_count": null,
   "id": "1b900b90-44e2-4fe5-8ec7-f949988fae1f",
   "metadata": {},
   "outputs": [],
   "source": [
    "from math import factorial\n",
    "\n",
    "# Palabra original\n",
    "palabra_original = \"MURCIÉLAGO\"\n",
    "\n",
    "# a) Número de palabras que se pueden crear sin repetir letras\n",
    "# Calculamos el factorial de la longitud de la palabra para obtener todas las permutaciones\n",
    "res = factorial(len(palabra_original))\n",
    "print(f\"a) Número de palabras que se pueden crear sin repetir letras: {res}\")\n",
    "# b) Número de palabras con cinco letras\n",
    "# Consideramos las combinaciones de 5 letras tomadas de las 9 letras disponibles\n",
    "combinaciones = factorial(len(palabra_original)) // factorial(len(palabra_original) - 5)\n",
    "print(\"Número de palabras con cinco letras:\",combinaciones)\n",
    "p = 9 * 8 * 7 * 6 * 5\n",
    "t = 3628800\n",
    "porcentaje = (100 / t) * p\n",
    "print(\"Palabras posibles:\",p)\n",
    "print(\"Probabilidad:\",porcentaje)"
   ]
  },
  {
   "cell_type": "markdown",
   "id": "f66d1744-216c-4930-9584-959d54c7425f",
   "metadata": {},
   "source": [
    "# Ejercicio 11\n",
    "\n",
    "**Parque vehicular.** La Ciudad de México tiene placas de automóviles con tres números seguidos\n",
    "por tres letras, es decir, son placas del tipo 999-AAA. Sin embargo, no pueden empezar con 0\n",
    "(cero) ni se utilizan las letras I, O, Q y Ñ.\n",
    "\n",
    "\n",
    "**a) ¿Cuántas placas diferentes son posibles?**\n",
    "\n",
    "**b) ¿Cuántas placas diferentes terminan en vocal?**\n",
    "\n",
    "**c) ¿Cuál es la probabilidad de que una placa, elegida al azar, sea impar?**"
   ]
  },
  {
   "cell_type": "code",
   "execution_count": null,
   "id": "d836f210-5bd6-4d00-be24-f878f524287e",
   "metadata": {},
   "outputs": [],
   "source": []
  },
  {
   "cell_type": "markdown",
   "id": "a95cdd55-9af8-424b-9b5c-36115e58bf4d",
   "metadata": {},
   "source": [
    "# Ejercicio 12\n",
    "\n",
    "**Servicios restauranteros.** Una cadena de hamburguesas anuncia que se ofrecen 512 maneras de pedir una hamburguesa. Un cliente puede elegir cualquiera de estos ingredientes: cátsup, mostaza, mayonesa, aderezo de la casa, cebolla, pepinillos, jitomate, tocino y lechuga. **¿Crees que lo que afirma la empresa sea cierto?** Justifica tu respuesta.\n"
   ]
  },
  {
   "cell_type": "code",
   "execution_count": null,
   "id": "1c5842bf-68fa-4074-9413-d87da0d6056e",
   "metadata": {},
   "outputs": [],
   "source": []
  },
  {
   "cell_type": "markdown",
   "id": "d1af4a43-a276-4d5d-a09e-e5b3fc9f7f8a",
   "metadata": {},
   "source": [
    "# Ejercicio 13\n",
    "\n",
    "**Cultura.** Una persona tiene un libro de cada uno de los autores siguientes: Mario Vargas Llosa,      \n",
    "Alberto Ruy Sánchez, Gabriel García Márquez, Günther Grass, Patrick Süskind, Heinrich Böll,\n",
    "Arturo Pérez-Reverte y Camilo José Cela. Como aún no los ha leído, quiere ponerlos en una\n",
    "repisa cerca de su cama. De acuerdo con esto, determina:\n",
    "\n",
    "\n",
    "**a) ¿De cuántas formas puede acomodar los libros sobre la repisa?**\n",
    "\n",
    "**b) ¿De cuántas maneras puede ordenarlos si quiere que los libros de autores latinoamericanos estén juntos?**\n",
    "\n",
    "**c) ¿De cuántas formas puede acomodarlos, si los autores latinoamericanos deben estar juntos, así como los autores alemanes y los españoles también?**\n",
    "\n",
    "**d) Determina las probabilidades correspondientes a los incisos (b) y (c).**"
   ]
  },
  {
   "cell_type": "code",
   "execution_count": null,
   "id": "a4b28ec0-564e-4fb5-bdd7-bdc089e78a77",
   "metadata": {},
   "outputs": [],
   "source": []
  },
  {
   "cell_type": "markdown",
   "id": "14dbb9ac-0dc1-450f-af21-695ab875046a",
   "metadata": {},
   "source": [
    "# Ejercicio 14\n",
    "**Finanzas.** Se va a formar un portafolio de inversión de cuatro instrumentos financieros a partir\n",
    "de cinco de renta fija y seis de renta variable. ¿De cuántas maneras podría formarse el portafolio\n",
    "si:\n",
    "\n",
    "\n",
    "**a) No hay restricciones?**\n",
    "\n",
    "**b) Debe haber dos instrumentos de renta fija y dos de renta variable?**\n",
    "\n",
    "**c) No debe haber ningún instrumento de renta fija?**\n",
    "\n",
    "**d) Debe haber tres instrumentos de renta fija?**\n",
    "\n",
    "**e) Calcula las probabilidades para los incisos anteriores.**"
   ]
  },
  {
   "cell_type": "code",
   "execution_count": null,
   "id": "043a75fd-56b1-4489-a4f2-1a0b033f9929",
   "metadata": {},
   "outputs": [],
   "source": []
  },
  {
   "cell_type": "markdown",
   "id": "d8759a21-2146-479d-9ffd-df71b62ecd06",
   "metadata": {},
   "source": [
    "# Ejercicio 15\n",
    "\n",
    "**Futbol.** Tres parejas (tres hombres y tres mujeres) compran boletos para ir a un partido de los\n",
    "Pumas. Cuando llegan al estadio de Ciudad Universitaria les surge la duda de cómo sentarse en\n",
    "la fila. ¿De cuántas maneras pueden hacerlo si:\n",
    "\n",
    "\n",
    "**a) No hay restricciones?**\n",
    "\n",
    "**b) Los hombres deben sentarse juntos?**\n",
    "\n",
    "**c) Deben sentarse por parejas?**\n",
    "\n",
    "**d) ¿Cuál es la probabilidad de cada uno de los eventos descritos en los incisos anteriores?**\n"
   ]
  },
  {
   "cell_type": "code",
   "execution_count": null,
   "id": "f5da9c79-bb8e-447f-8c06-ddae303517e0",
   "metadata": {},
   "outputs": [],
   "source": []
  },
  {
   "cell_type": "markdown",
   "id": "9d988e5a-c5e7-4ce5-9777-a525b71e95f4",
   "metadata": {},
   "source": [
    "# Ejercicio 16\n",
    "\n",
    "**Trabajo en equipo.** En un grupo de 25 alumnos hay 13 chicas y 12 chicos. Se desean formar\n",
    "equipos de trabajo para realizar una investigación:\n",
    "\n",
    "\n",
    "**a) ¿Cuántos equipos de cinco personas pueden formarse?**\n",
    "\n",
    "**b) ¿Cuántos equipos pueden formarse si debe haber una chica?**\n",
    "\n",
    "**c) ¿Cuántos equipos pueden formarse si debe haber dos chicas?**\n",
    "\n",
    "**d) Determina las probabilidades correspondientes a los incisos anteriores.**"
   ]
  },
  {
   "cell_type": "code",
   "execution_count": null,
   "id": "cd0f790f-8e41-4fe0-b08c-e0234339b1ba",
   "metadata": {},
   "outputs": [],
   "source": []
  },
  {
   "cell_type": "markdown",
   "id": "6d9aea73-910e-42bb-beee-c06dd5aa84df",
   "metadata": {},
   "source": [
    "# Ejercicio 17\n",
    "\n",
    "**Control de calidad.** Se tiene una caja con 24 latas y se sabe que dos están contaminadas. Se van\n",
    "a seleccionar tres latas al azar para someterlas a una prueba de control de calidad, es decir, para\n",
    "medir los estándares de calidad de la empresa.\n",
    "\n",
    "\n",
    "**a) ¿Cuántas combinaciones de tres latas pueden hacerse?**\n",
    "\n",
    "**b) ¿Cuál es la probabilidad de que se seleccione una lata contaminada para la prueba?**\n",
    "\n",
    "**c) ¿Cuál es la probabilidad de que se seleccione al menos una lata contaminada para la prueba?**\n",
    "\n",
    "**d) ¿Y la probabilidad de que no se elijan latas contaminadas para la prueba?**"
   ]
  },
  {
   "cell_type": "code",
   "execution_count": null,
   "id": "d1748bdc-ece6-4ba0-b890-f58c79a7b62e",
   "metadata": {},
   "outputs": [],
   "source": []
  }
 ],
 "metadata": {
  "kernelspec": {
   "display_name": "Python 3 (ipykernel)",
   "language": "python",
   "name": "python3"
  },
  "language_info": {
   "codemirror_mode": {
    "name": "ipython",
    "version": 3
   },
   "file_extension": ".py",
   "mimetype": "text/x-python",
   "name": "python",
   "nbconvert_exporter": "python",
   "pygments_lexer": "ipython3",
   "version": "3.11.4"
  }
 },
 "nbformat": 4,
 "nbformat_minor": 5
}
