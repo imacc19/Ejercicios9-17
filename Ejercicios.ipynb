{
 "cells": [
  {
   "cell_type": "markdown",
   "id": "a2536a20-c29f-4491-8162-3070cbd502f9",
   "metadata": {},
   "source": [
    "## **EJERCICIOS**  \n",
    "- [Ejercicio 14](#ex_14)\n",
    "  - [a) Inciso A](#ex_14_a)\n",
    "  - [b) Inciso B](#ex_14_b)\n",
    "  - [c) Inciso C](#ex_14_c)\n",
    "  - [d) Inciso D](#ex_14_d)\n",
    "  - [e) Inciso E](#ex_14_e)\n",
    "- [Ejercicio 16](#ex_16)\n",
    "  - [a) Inciso A](#ex_16_a)\n",
    "  - [b) Inciso B](#ex_16_b)\n",
    "  - [c) Inciso C](#ex_16_c)\n",
    "  - [d) Inciso D](#ex_16_d)\n",
    "- [Ejercicio 17](#ex_17)\n",
    "  - [a) Inciso A](#ex_17_a)\n",
    "  - [b) Inciso B](#ex_17_b)\n",
    "  - [c) Inciso C](#ex_17_c)\n",
    "  - [d) Inciso D](#ex_17_d)"
   ]
  },
  {
   "cell_type": "markdown",
   "id": "4571001d-e0a4-45f7-8ed6-22bfdaffa1c4",
   "metadata": {},
   "source": [
    "<div id=ex_14></div> \n",
    "\n",
    "---  \n",
    "<span style=\"color: #61C2FF; font-size: 23px; font-weight: 600;\">Ejercicio 14</span><div id=ex_14></div>  \n",
    "**Finanzas.** Se va a formar un portafolio de inversión de cuatro instrumentos financieros a partir\n",
    "de cinco de renta fija y seis de renta variable. ¿De cuántas maneras podría formarse el portafolio\n",
    "si:\n",
    "\n",
    "\n",
    "**a) No hay restricciones?**\n",
    "\n",
    "**b) Debe haber dos instrumentos de renta fija y dos de renta variable?**\n",
    "\n",
    "**c) No debe haber ningún instrumento de renta fija?**\n",
    "\n",
    "**d) Debe haber tres instrumentos de renta fija?**\n",
    "\n",
    "**e) Calcula las probabilidades para los incisos anteriores.**"
   ]
  },
  {
   "cell_type": "markdown",
   "id": "b7e914ac-6cbf-4005-85e7-a72c82941bc3",
   "metadata": {},
   "source": [
    "<div id=ex_14_a></div> \n",
    "\n",
    "---  \n",
    "<span style=\"color: #F44336; font-size: 20px; font-weight: 600;\">Inciso A</span><div id=ex_14_a></div><div id=ex_14_a></div> \n",
    "\n",
    "**a) No hay restricciones?**\n",
    "\n",
    "Dado que se necesita formar combinaciones de **4** elementos a partir de un total de **11** elementos (cinco de renta fija y seis de renta variable). Es fundamental destacar que, para este ejercicio, el orden en que se seleccionen los elementos no tiene relevancia es por eso que usamos la fórmula de *combinaciones*.\n",
    "\n",
    "$$\n",
    "nCr = \\binom{n}{r} = \\dfrac{n!}{r! \\cdot (n - r)!}\n",
    "$$\n",
    "\n",
    "**Donde**    \n",
    "* **n** es el número total de elementos en el conjunto (11).   \n",
    "* **r** es el número de elementos que se quieren seleccionar (4).  \n",
    "* **!** representa el factorial. \n",
    "\n",
    "**Ahora, sustituimos los valores**\n",
    "\n",
    "$$\n",
    "\\begin{align}\n",
    "    _{11}C_{4} &= \\dfrac{11!}{4! (11 - 4)!}\\\\\n",
    "\\end{align}\n",
    "$$\n",
    "\n",
    "$$\n",
    "\\begin{align}\n",
    "_{11}C_{4} &= \\dfrac{11!}{4! \\cdot 7!}\\\\\n",
    "_{11}C_4 &= \\dfrac{11\\cdot 10\\cdot 9\\cdot 8\\cdot7}{4! \\cdot 7!}\\\\\n",
    "\\end{align}\n",
    "$$\n",
    "\n",
    "$$\n",
    "\\begin{align}\n",
    "    _{11}C_{4} &= \\dfrac{39916800}{120960} = 330\\\\\n",
    "\\end{align}\n",
    "$$\n",
    "\n",
    "**De la cual obtenemos el siguiente resultado**\n",
    "\n",
    "$$\n",
    "\\begin{align}\n",
    "    _{11}C_{4} &= 330\n",
    "\\end{align}\n",
    "$$\n",
    "\n",
    "Por lo tanto, se pueden crear **330** combinaciones de 4 elementos a partir de 11 elementos."
   ]
  },
  {
   "cell_type": "code",
   "execution_count": 2,
   "id": "6302e3e2-00a6-4d39-a115-cd23eaa451f0",
   "metadata": {},
   "outputs": [
    {
     "name": "stdout",
     "output_type": "stream",
     "text": [
      "Respuesta al inciso a) Combinaciones sin restricciones: 330\n"
     ]
    }
   ],
   "source": [
    "import math\n",
    "from math import comb\n",
    "\n",
    "# a) Total combinaciones sin restricciones\n",
    "total_portafolios = comb(11, 4)\n",
    "print(\"Respuesta al inciso a) Combinaciones sin restricciones:\", total_portafolios)"
   ]
  },
  {
   "cell_type": "markdown",
   "id": "fff822e1-e153-4f43-b697-f83b2a380d75",
   "metadata": {},
   "source": [
    "<div id=ex_14_b></div> \n",
    "\n",
    "---  \n",
    "<span style=\"color: #F44336; font-size: 20px; font-weight: 600;\">Inciso B</span><div id=ex_14_b></div><div id=ex_14_b></div> \n",
    "\n",
    "**b) Debe haber dos instrumentos de renta fija y dos de renta variable**\n",
    "\n",
    "Aquí, se seleccionan **2** de los **5** instrumentos de renta fija y **2** de los **6** de renta variable. Aplicamos la fórmula de combinaciones para ambos grupos y multiplicamos los resultados. Comenzamos calculando las combinaciones de cada una de los tipos de renta. \n",
    "  \n",
    "**Renta fija** \n",
    "$$\n",
    "\\begin{align}\n",
    "    _{5}C_{2} &= \\dfrac{5!}{2! (5 - 2)!}\\\\\n",
    "    _{5}C_2 &= \\dfrac{5!}{2!(3)!}\\\\\n",
    "    _{5}C_{2} &= 10\n",
    "\\end{align}\n",
    "$$  \n",
    "  \n",
    "**Renta variable**  \n",
    "$$\n",
    "\\begin{align}\n",
    "    _{6}C_{2} &= \\dfrac{6!}{2! (6 - 2)!}\\\\\n",
    "    _{6}C_2 &= \\dfrac{6!}{2!(4)!}\\\\\n",
    "    _{6}C_{2} &= 15\n",
    "\\end{align}\n",
    "$$  \n",
    "  \n",
    "**Por ultimo, hacemos la multiplicacion de ambos grupos** \n",
    "$$\n",
    "10 \\cdot 15 = 150\n",
    "$$\n",
    "Por lo tanto, se pueden formar **150** combinaciones bajo estas condiciones.\n",
    "\n"
   ]
  },
  {
   "cell_type": "code",
   "execution_count": 4,
   "id": "96636dc3-d34c-4205-b432-2d8190a8313f",
   "metadata": {},
   "outputs": [
    {
     "name": "stdout",
     "output_type": "stream",
     "text": [
      "Respuesta al inciso b) Las 2 Combinaciones con renta fija y 2 con variable son: 150\n"
     ]
    }
   ],
   "source": [
    "# b) Portafolios con 2 de renta fija y 2 variable\n",
    "portafolios_2renta_fija_2variable = comb(5, 2) * comb(6, 2)\n",
    "\n",
    "print(\"Respuesta al inciso b) Las 2 Combinaciones con renta fija y 2 con variable son:\", portafolios_2renta_fija_2variable)"
   ]
  },
  {
   "cell_type": "markdown",
   "id": "eab47222-aad4-4552-860b-cc2c75cc22bd",
   "metadata": {},
   "source": [
    "<div id=ex_14_c></div> \n",
    "\n",
    "---  \n",
    "<span style=\"color: #F44336; font-size: 20px; font-weight: 600;\">Inciso C</span><div id=ex_14_c></div><div id=ex_14_c></div> \n",
    "\n",
    "**c) No debe haber ningún instrumento de renta fija**\n",
    "\n",
    "En este caso, se seleccionan **4** instrumentos de renta variable de un total de **6**, sin incluir los de renta fija.\n",
    "\n",
    "$$\n",
    "\\begin{align}\n",
    "    _{6}C_{4} &= \\dfrac{6!}{4! (6 - 4)!}\\\\\n",
    "    _{6}C_4 &= \\dfrac{6}{4!(2)!}\\\\\n",
    "    _{6}C_{4} &= 15\n",
    "\\end{align}\n",
    "$$ \n",
    "\n",
    "Por lo tanto, hay **15** combinaciones posibles sin incluir renta fija."
   ]
  },
  {
   "cell_type": "code",
   "execution_count": 5,
   "id": "729108bd-d32d-40f1-a6b7-5571991b312c",
   "metadata": {},
   "outputs": [
    {
     "name": "stdout",
     "output_type": "stream",
     "text": [
      "Respuesta al inciso c) Sin incluir renta fija son: 15\n"
     ]
    }
   ],
   "source": [
    "# c) Portafolios sin instrumentos de renta fija\n",
    "portafolios_solo_renta_variable = comb(5, 0) * comb(6, 4)\n",
    "\n",
    "print(\"Respuesta al inciso c) Sin incluir renta fija son:\", portafolios_solo_renta_variable)"
   ]
  },
  {
   "cell_type": "markdown",
   "id": "d3e1ca63-4447-446e-a500-c063b6d314aa",
   "metadata": {},
   "source": [
    "<div id=ex_14_d></div> \n",
    "\n",
    "---  \n",
    "<span style=\"color: #F44336; font-size: 20px; font-weight: 600;\">Inciso D</span><div id=ex_14_d></div><div id=ex_14_d></div> \n",
    "\n",
    "**d) Debe haber tres instrumentos de renta fija**\n",
    "\n",
    "Aquí, se seleccionan **3** de los **5** instrumentos de renta fija y **1** de los **6** de renta variable\n",
    "\n",
    "\n",
    "**Renta fija** \n",
    "$$\n",
    "\\begin{align}\n",
    "    _{5}C_{3} &= \\dfrac{5!}{3! (5 - 3)!}\\\\\n",
    "    _{5}C_3 &= \\dfrac{5!}{3!(2)!}\\\\\n",
    "    _{5}C_{3} &= 10\n",
    "\\end{align}\n",
    "$$  \n",
    "  \n",
    "**Renta variable**  \n",
    "$$\n",
    "\\begin{align}\n",
    "    _{6}C_{1} &= \\dfrac{6!}{1! (6 - 1)!}\\\\\n",
    "    _{6}C_{1} &= \\dfrac{6!}{1!(5)!}\\\\\n",
    "    _{6}C_{1} &= 6\n",
    "\\end{align}\n",
    "$$  \n",
    "  \n",
    "**Multiplicamos los valores obtenidos nos da un resultado de**  \n",
    "$$\n",
    "10 \\cdot 6 = 60\n",
    "$$\n",
    "\n",
    "Por lo tanto, hay **60** combinaciones posibles con estas condiciones."
   ]
  },
  {
   "cell_type": "code",
   "execution_count": 6,
   "id": "6e3e978e-916e-429a-b141-b2907fd0d9c4",
   "metadata": {},
   "outputs": [
    {
     "name": "stdout",
     "output_type": "stream",
     "text": [
      "Respuesta al inciso d): Los 3 de renta fija son: 60\n"
     ]
    }
   ],
   "source": [
    "# d) Portafolios con 3 instrumentos de renta fija\n",
    "portafolios_tres_renta_fija = comb(5, 3) * comb(6, 1)\n",
    "\n",
    "print(\"Respuesta al inciso d): Los 3 de renta fija son:\", portafolios_tres_renta_fija)"
   ]
  },
  {
   "cell_type": "markdown",
   "id": "a00b0ecb-d533-48c6-92ef-824245983299",
   "metadata": {},
   "source": [
    "<div id=ex_14_e></div> \n",
    "\n",
    "---  \n",
    "<span style=\"color: #F44336; font-size: 20px; font-weight: 600;\">Inciso E (Probabilidades)</span><div id=ex_14_e></div><div id=ex_14_e></div> \n",
    "\n",
    "**e) Calcula las probabilidades para los incisos anteriores**\n",
    "\n",
    "Las probabilidades se calculan dividiendo el número de combinaciones específicas de cada inciso entre el total de combinaciones sin restricciones **(330)**. Esto proporciona la probabilidad de que un portafolio cumpla con cada condición.\n",
    "\n",
    "$$ \n",
    "\\begin{align}\n",
    "    P(A) &= \\dfrac{\\text{Combinaciones sin restricciones}}{\\text{Total de combinaciones sin restricciones}}\\\\\n",
    "    P(A) &= \\dfrac{330}{330}\\\\\n",
    "    P(A) &= 1.0\n",
    "\\end{align}\n",
    "$$ \n",
    "Entonces, la probabilidad para el inciso **a)** es de **1.0**\n",
    "\n",
    "$$ \n",
    "\\begin{align}\n",
    "    P(B) &= \\dfrac{\\text{Combinaciones con 2 de renta fija y 2 de renta variable}}{\\text{Total de combinaciones sin restricciones}}\\\\\n",
    "    P(B) &= \\dfrac{150}{330}\\\\\n",
    "    P(B) &= 0.455\n",
    "\\end{align}\n",
    "$$ \n",
    "Entonces, la probabilidad para el inciso **b)** es de **.455**\n",
    "$$ \n",
    "\\begin{align}\n",
    "    P(C) &= \\dfrac{\\text{Combinaciones sin instrumentos de renta fija}}{\\text{Total de combinaciones sin restricciones}}\\\\\n",
    "    P(C) &= \\dfrac{15}{330}\\\\\n",
    "    P(C) &= 0.045\n",
    "\\end{align}\n",
    "$$ \n",
    "Entonces, la probabilidad para el inciso **c)** es de **0.045**\n",
    "$$ \n",
    "\\begin{align}\n",
    "    P(D) &= \\dfrac{\\text{Combinaciones con 3 de renta fija}}{\\text{Total de combinaciones sin restricciones}}\\\\\n",
    "    P(D) &= \\dfrac{60}{330}\\\\\n",
    "    P(D) &= 0.182\n",
    "\\end{align}\n",
    "$$ \n",
    "Entonces, la probabilidad para el inciso **d)** es de **.182**"
   ]
  },
  {
   "cell_type": "code",
   "execution_count": 9,
   "id": "2f298a6b-4b77-40d4-8237-d8b0eed1f7c6",
   "metadata": {},
   "outputs": [
    {
     "name": "stdout",
     "output_type": "stream",
     "text": [
      "La probabilidad del inciso a): 1.0\n",
      "La probabilidad del inciso b): 0.455\n",
      "La probabilidad del inciso c): 0.045\n",
      "La probabilidad del inciso d): 0.182\n"
     ]
    }
   ],
   "source": [
    "# e) Cálculo de probabilidades\n",
    "probabilidad_a = total_portafolios / total_portafolios\n",
    "probabilidad_b = portafolios_2renta_fija_2variable / total_portafolios\n",
    "probabilidad_c = portafolios_solo_renta_variable / total_portafolios\n",
    "probabilidad_d = portafolios_tres_renta_fija / total_portafolios\n",
    "\n",
    "# Probabilidades (Las probabilidades son redondeadas a 3 decimas\"round\")\n",
    "print(\"La probabilidad del inciso a):\", round(probabilidad_a,3))\n",
    "print(\"La probabilidad del inciso b):\", round(probabilidad_b,3))\n",
    "print(\"La probabilidad del inciso c):\", round(probabilidad_c,3))\n",
    "print(\"La probabilidad del inciso d):\", round(probabilidad_d,3))"
   ]
  },
  {
   "cell_type": "markdown",
   "id": "e390fd6f-b47e-49e2-a77f-0eada998015b",
   "metadata": {},
   "source": [
    "<div id=ex_16></div>  \n",
    "\n",
    "---  \n",
    "<span style=\"color: #61C2FF; font-size: 23px; font-weight: 600;\">Ejercicio 16</span><div id=ex_16></div>\n",
    "\n",
    "**Trabajo en equipo.** En un grupo de 25 alumnos hay 13 chicas y 12 chicos. Se desean formar\n",
    "equipos de trabajo para realizar una investigación:\n",
    "\n",
    "\n",
    "**a) ¿Cuántos equipos de cinco personas pueden formarse?**\n",
    "\n",
    "**b) ¿Cuántos equipos pueden formarse si debe haber una chica?**\n",
    "\n",
    "**c) ¿Cuántos equipos pueden formarse si debe haber dos chicas?**\n",
    "\n",
    "**d) Determina las probabilidades correspondientes a los incisos anteriores.**"
   ]
  },
  {
   "cell_type": "markdown",
   "id": "c399b765-89da-4b93-b13b-bff331d7f78e",
   "metadata": {},
   "source": [
    "<div id=ex_16_a></div> \n",
    "\n",
    "---  \n",
    "<span style=\"color: #F44336; font-size: 20px; font-weight: 600;\">Inciso A</span><div id=ex_16_a></div><div id=ex_16_a></div> \n",
    "\n",
    "**a) ¿Cuántos equipos de cinco personas pueden formarse?**\n",
    "\n",
    "En este caso, necesitamos formar combinaciones de **5** personas a partir de un total de **25** alumnos (13 chicas y 12 chicos). Es fundamental destacar que, para este ejercicio, el orden en que se seleccionen los elementos no tiene relevancia es por eso que usamos la fórmula de *combinaciones*.\n",
    "\n",
    "$$\n",
    "nCr = \\binom{n}{r} = \\dfrac{n!}{r! \\cdot (n - r)!}\n",
    "$$\n",
    "\n",
    "Donde:    \n",
    "* **n** es el número total de elementos (25).  \n",
    "* **r** es el número de elementos a seleccionar (5)  \n",
    "* **!** representa el factorial.  \n",
    "\n",
    "**Sustituyendo los valores**  \n",
    "$$\n",
    "\\begin{align}\n",
    "    _{25}C_{5} &= \\dfrac{25!}{5! (25 - 5)!}\\\\\n",
    "    _{25}C_{5} &= \\dfrac{25!}{5! \\cdot 20!} \\\\\n",
    "\\end{align}\n",
    "$$\n",
    "\n",
    "$$\n",
    "\\begin{align}\n",
    "_{25}C_{5} &= \\dfrac{25 \\cdot 24 \\cdot 23 \\cdot 22 \\cdot 21}{5 \\cdot 4 \\cdot 3 \\cdot 2 \\cdot 1} \\\\\n",
    "\\end{align}\n",
    "$$\n",
    "**De la cual obtenemos el siguiente resultado**\n",
    "$$\n",
    "\\begin{align}\n",
    "_{25}C_{5} &= 53130\n",
    "\\end{align}\n",
    "$$\n",
    "\n",
    "Por lo tanto, obtenemos un total de **53130** combinaciones posibles."
   ]
  },
  {
   "cell_type": "code",
   "execution_count": 10,
   "id": "d34eb65d-300b-4832-a0c0-e1e51f9fa8fb",
   "metadata": {},
   "outputs": [
    {
     "name": "stdout",
     "output_type": "stream",
     "text": [
      "Respuesta al inciso a) El total de equipos de 5 personas son: 53130\n"
     ]
    }
   ],
   "source": [
    "# a) Total de equipos de cinco personas\n",
    "total_equipos_cinco_personas = comb(25, 5)\n",
    "\n",
    "print(\"Respuesta al inciso a) El total de equipos de 5 personas son:\", total_equipos_cinco_personas)"
   ]
  },
  {
   "cell_type": "markdown",
   "id": "aead513c-f27e-48fb-9a7e-dfa796e445fa",
   "metadata": {},
   "source": [
    "<div id=ex_16_b></div> \n",
    "\n",
    "---  \n",
    "<span style=\"color: #F44336; font-size: 20px; font-weight: 600;\">Inciso B</span><div id=ex_16_b></div><div id=ex_16_b></div> \n",
    "\n",
    "**b) ¿Cuántos equipos pueden formarse si debe haber una chica?**\n",
    "\n",
    "Aquí, se selecciona **1** chica de las **13** disponibles y **4** chicos de los **12**. Aplicamos la fórmula de combinaciones para ambos grupos y multiplicamos los resultados\n",
    "\n",
    "Comenzamos calculando las combinaciones de cada grupo. \n",
    "  \n",
    "**Para las chicas**\n",
    "$$\n",
    "\\begin{align}\n",
    "    _{13}C_{1} &= \\dfrac{13!}{1! (13 - 1)!}\\\\\n",
    "    _{13}C_{1} &= \\dfrac{13!}{1! \\cdot 12!} \\\\\n",
    "    _{13}C_{1} &= 13\n",
    "\\end{align}\n",
    "$$  \n",
    "  \n",
    "**Para los chicos**  \n",
    "$$\n",
    "\\begin{align}\n",
    "    _{12}C_{4} &= \\dfrac{12!}{4! (12 - 4)!}\\\\\n",
    "    _{12}C_{4} &= \\dfrac{12!}{4! \\cdot 8!} \\\\\n",
    "    _{12}C_{4} &= 495\n",
    "\\end{align}\n",
    "$$  \n",
    "  \n",
    "**Como se deben elegir 4 chicos y una chica para el mismo equipo, se multiplican ambos resultados** \n",
    "$$\n",
    "13 \\cdot 495\n",
    "$$\n",
    "**De los cuales obtendremos**\n",
    "$$\n",
    "6435\n",
    "$$"
   ]
  },
  {
   "cell_type": "code",
   "execution_count": 11,
   "id": "b87f8569-cc94-4987-8a6f-bf531ebbf683",
   "metadata": {},
   "outputs": [
    {
     "name": "stdout",
     "output_type": "stream",
     "text": [
      "Respuesta al inciso b) Los equipos con almenos una chica son: 6435\n"
     ]
    }
   ],
   "source": [
    "# b) Equipos con al menos una chica\n",
    "equipos_almenos_una_chica = comb(12, 4) * comb(13, 1)\n",
    "\n",
    "print(\"Respuesta al inciso b) Los equipos con almenos una chica son:\", equipos_almenos_una_chica)"
   ]
  },
  {
   "cell_type": "markdown",
   "id": "9795d5f2-5d4f-47c5-8f4c-49a1e4b01e4c",
   "metadata": {},
   "source": [
    "<div id=ex_16_c></div> \n",
    "\n",
    "---  \n",
    "<span style=\"color: #F44336; font-size: 20px; font-weight: 600;\">Inciso C</span><div id=ex_16_c></div><div id=ex_16_c></div> \n",
    "\n",
    "**c) ¿Cuántos equipos pueden formarse si debe haber dos chicas?**\n",
    "\n",
    "En este caso, se seleccionan **2** chicas de las **13** y **3** chicos de los **12**\n",
    "\n",
    "**Para las chicas**\n",
    "$$\n",
    "\\begin{align}\n",
    "_{13}C_{2} &= \\dfrac{13!}{2!(13 - 2)!}\\\\\n",
    "_{13}C_{2} &= \\dfrac{13!}{2! \\cdot 11!} \\\\\n",
    "_{13}C_{2} &= 78\n",
    "\\end{align}\n",
    "$$\n",
    "**Para los chicos**\n",
    "\n",
    "$$\n",
    "\\begin{align}\n",
    "_{12}C_{3} &= \\frac{12!}{3!(12 - 3)!}\\\\\n",
    "_{12}C_{3} &= \\dfrac{12!}{3! \\cdot 9!} \\\\\n",
    "_{12}C_{3} &= 220\n",
    "\\end{align}\n",
    "$$\n",
    "**Entonces, al multiplicar los valores obtenidos, tenemos**\n",
    "$$\n",
    "78 \\cdot 220 = 17160\n",
    "$$"
   ]
  },
  {
   "cell_type": "code",
   "execution_count": 12,
   "id": "7fa8c9e1-f004-41de-9082-c0ae396adbc5",
   "metadata": {},
   "outputs": [
    {
     "name": "stdout",
     "output_type": "stream",
     "text": [
      "Respuesta al inciso c) Los equipos con al menos dos chicas son: 17160\n"
     ]
    }
   ],
   "source": [
    "# c) Equipos con al menos dos chicas\n",
    "equipos_dos_chicas = comb(12, 3) * comb(13, 2)\n",
    "\n",
    "print(\"Respuesta al inciso c) Los equipos con al menos dos chicas son:\", equipos_dos_chicas)"
   ]
  },
  {
   "cell_type": "markdown",
   "id": "267570a1-e1e5-45e0-8e4e-b51eac1959ee",
   "metadata": {},
   "source": [
    "<div id=ex_16_d></div> \n",
    "\n",
    "---  \n",
    "<span style=\"color: #F44336; font-size: 20px; font-weight: 600;\">Inciso D</span><div id=ex_16_d></div><div id=ex_16_d></div> \n",
    "\n",
    "**d) Determina las probabilidades correspondientes a los incisos anteriores**\n",
    "\n",
    "$$ \n",
    "\\begin{align}\n",
    "    P(A) &= \\dfrac{\\text{Total de combinaciones sin restricciones}}{\\text{Total de combinaciones sin restricciones}}\\\\\n",
    "    P(A) &= \\dfrac{53130}{53130}\\\\\n",
    "    P(A) &= 1.0\n",
    "\\end{align}\n",
    "$$ \n",
    "Entonces, la probabilidad para el inciso **a)** es de **1.0**\n",
    "\n",
    "$$ \n",
    "\\begin{align}\n",
    "    P(B) &= \\dfrac{\\text{Combinaciones con exactamente dos chicas}}{\\text{Total de combinaciones sin restricciones}}\\\\\n",
    "    P(B) &= \\dfrac{6435}{53130}\\\\\n",
    "    P(B) &= 0.121\n",
    "\\end{align}\n",
    "$$ \n",
    "Entonces, la probabilidad para el inciso **b)** es de **0.121**\n",
    "$$ \n",
    "\\begin{align}\n",
    "    P(C) &= \\dfrac{\\text{Combinaciones sin instrumentos de renta fija}}{\\text{Total de combinaciones sin restricciones}}\\\\\n",
    "    P(C) &= \\dfrac{17160}{53130}\\\\\n",
    "    P(C) &= 0.323\n",
    "\\end{align}\n",
    "$$ \n",
    "Entonces, la probabilidad para el inciso **c)** es de **0.323**"
   ]
  },
  {
   "cell_type": "code",
   "execution_count": 13,
   "id": "18eb5a28-5e6d-49c4-aef6-231c7ce04e53",
   "metadata": {},
   "outputs": [
    {
     "name": "stdout",
     "output_type": "stream",
     "text": [
      "La probabilidad del inciso a): 1.0\n",
      "La probabilidad del inciso b): 0.121\n",
      "La probabilidad del inciso c): 0.323\n"
     ]
    }
   ],
   "source": [
    "# d) Cálculo de probabilidades\n",
    "probabilidad_a = total_equipos_cinco_personas / total_equipos_cinco_personas\n",
    "probabilidad_b = equipos_almenos_una_chica / total_equipos_cinco_personas\n",
    "probabilidad_c = equipos_dos_chicas / total_equipos_cinco_personas\n",
    "\n",
    "# Probabilidades (Las probabilidades son redondeadas a 3 decimas\"round\")\n",
    "print(\"La probabilidad del inciso a):\", round(probabilidad_a,3))\n",
    "print(\"La probabilidad del inciso b):\", round(probabilidad_b,3))\n",
    "print(\"La probabilidad del inciso c):\", round(probabilidad_c,3))"
   ]
  },
  {
   "cell_type": "markdown",
   "id": "b8cf7637-2765-4613-a816-0f293e701b40",
   "metadata": {},
   "source": [
    "<div id=ex_17></div>  \n",
    "\n",
    "---  \n",
    "<span style=\"color: #61C2FF; font-size: 23px; font-weight: 600;\">Ejercicio 17</span><div id=ex_17></div>\n",
    "\n",
    "**Control de calidad.** Se tiene una caja con 24 latas y se sabe que dos están contaminadas. Se van\n",
    "a seleccionar tres latas al azar para someterlas a una prueba de control de calidad, es decir, para\n",
    "medir los estándares de calidad de la empresa.\n",
    "\n",
    "\n",
    "**a) ¿Cuántas combinaciones de tres latas pueden hacerse?**\n",
    "\n",
    "**b) ¿Cuál es la probabilidad de que se seleccione una lata contaminada para la prueba?**\n",
    "\n",
    "**c) ¿Cuál es la probabilidad de que se seleccione al menos una lata contaminada para la prueba?**\n",
    "\n",
    "**d) ¿Y la probabilidad de que no se elijan latas contaminadas para la prueba?**"
   ]
  },
  {
   "cell_type": "markdown",
   "id": "351a91b3-b17b-42dc-888a-eb06ca2eaee9",
   "metadata": {},
   "source": [
    "<div id=ex_17_a></div> \n",
    "\n",
    "---  \n",
    "<span style=\"color: #F44336; font-size: 20px; font-weight: 600;\">Inciso A</span><div id=ex_17_a></div><div id=ex_17_a></div> \n",
    "\n",
    "**a) ¿Cuántas combinaciones de tres latas pueden hacerse?**\n",
    "\n",
    "Para calcular el número de combinaciones posibles de seleccionar tres latas de un total de 24, utilizamos la fórmula de combinaciones.\n",
    "\n",
    "$$\n",
    "nCr = \\binom{n}{r} = \\dfrac{n!}{r! \\cdot (n - r)!}\n",
    "$$\n",
    "\n",
    "Donde:    \n",
    "* **n** es el número total de elementos (24)\n",
    "* **r** es el número de elementos a seleccionar (3) \n",
    "* **!** representa el factorial.  \n",
    "\n",
    "Remplazando los valores tenemos:  \n",
    "$$\n",
    "\\begin{align}\n",
    "    _{24}C_{3} &= \\dfrac{24!}{3! (24 - 3)!}\\\\\n",
    "    _{24}C_{3} &= \\dfrac{24!}{3! \\cdot 21!}\\\\\n",
    "    _{24}C_{3} &= \\dfrac{24 \\cdot 23 \\cdot 22}{6} \\\\\n",
    "    _{24}C_{3} &= 2024\n",
    "\\end{align}\n",
    "$$\n",
    "  \n",
    "Por lo que podemos crear **2024** combinaciones posibles de seleccionar tres latas de la caja."
   ]
  },
  {
   "cell_type": "code",
   "execution_count": 15,
   "id": "12bd732e-b08e-451f-ada7-6644151bd4b7",
   "metadata": {},
   "outputs": [
    {
     "name": "stdout",
     "output_type": "stream",
     "text": [
      "Respuesta al inciso a) El total de combinaciones de 3 latas son: 2024\n"
     ]
    }
   ],
   "source": [
    "# a) Total de combinaciones de tres latas \n",
    "total_combinaciones = comb(24, 3)\n",
    "\n",
    "print(\"Respuesta al inciso a) El total de combinaciones de 3 latas son:\", total_combinaciones)"
   ]
  },
  {
   "cell_type": "markdown",
   "id": "b2f457e4-5419-43c3-93f5-71d8f84f52fb",
   "metadata": {},
   "source": [
    "<div id=ex_17_b></div> \n",
    "\n",
    "---  \n",
    "<span style=\"color: #F44336; font-size: 20px; font-weight: 600;\">Inciso B</span><div id=ex_17_b></div><div id=ex_17_b></div> \n",
    "\n",
    "**b) ¿Cuál es la probabilidad de que se seleccione una lata contaminada para la prueba?**\n",
    "\n",
    "\n",
    "Para calcular la probabilidad de seleccionar una lata contaminada, necesitamos conocer el número total de combinaciones (calculado en el inciso **a**) y el número de combinaciones favorables. La probabilidad se podría interpretar como\n",
    "\n",
    "\n",
    "$$\n",
    "\\begin{align}\n",
    "      \\text{Probabilidad del evento} &= \\dfrac{\\text{Casos favorables}}{\\text{Casos totales}}\n",
    "\\end{align}\n",
    "$$\n",
    "\n",
    "$$\n",
    "\\begin{align}\n",
    "    _{22}C_2 &= \\dfrac{22!}{2! \\cdot (22 - 2)!}\\\\\n",
    "    _{22}C_2 &= \\dfrac{22!}{2! \\cdot 20!}\\\\\n",
    "    _{22}C_2 &= \\dfrac{22 \\cdot 21}{2} \\dfrac{20!}{20!}\\\\\n",
    "    _{22}C_2 &= \\dfrac{462}{2}\\\\\n",
    "    _{22}C_2 &= 231\n",
    "\\end{align}\n",
    "$$\n",
    "\n",
    "Como se deben elegir 2 latas en buen estado y 1 contaminada para la prueba se multiplican los dos resultados\n",
    "\n",
    "$$\n",
    "\\begin{align}\n",
    "    _{22}C_2 \\cdot _2C_1 &= 231 \\cdot 2 = 462\n",
    "\\end{align}\n",
    "$$  \n",
    "\n",
    "$$\n",
    "\\begin{align}\n",
    "    P\\text{(Al menos una lata contaminada)} &= \\dfrac{462}{2024} = 0.228\n",
    "\\end{align}\n",
    "$$  \n",
    "\n",
    "Entonces, la probabilidad para el inciso **b)** es de **0.228**"
   ]
  },
  {
   "cell_type": "code",
   "execution_count": 16,
   "id": "e714d1c0-43dd-4ec2-8485-4da9607a463f",
   "metadata": {},
   "outputs": [
    {
     "name": "stdout",
     "output_type": "stream",
     "text": [
      "Respuesta al inciso b) La probabilidad de seleccionar una lata contaminada es de: 0.228\n"
     ]
    }
   ],
   "source": [
    "# b) Probabilidad de seleccionar una lata contaminada (las probabilidades son redondeadas a 3 decimas\"round\")\n",
    "combinaciones_una_contaminada = comb(22, 2) * comb(2, 1)\n",
    "probabilidad_una_contaminada = combinaciones_una_contaminada / total_combinaciones\n",
    "\n",
    "print(\"Respuesta al inciso b) La probabilidad de seleccionar una lata contaminada es de:\", round(probabilidad_una_contaminada, 3))"
   ]
  },
  {
   "cell_type": "markdown",
   "id": "5285c3e0-c786-46ef-b3f3-0f1e4f3ba466",
   "metadata": {},
   "source": [
    "<div id=ex_17_c></div> \n",
    "\n",
    "---  \n",
    "<span style=\"color: #F44336; font-size: 20px; font-weight: 600;\">Inciso C</span><div id=ex_17_c></div><div id=ex_17_c></div> \n",
    "\n",
    "**c) Probabilidad de seleccionar exactamente dos latas contaminadas**\n",
    "\n",
    "Se tienen **22** latas en buen estado y **2** contaminadas. Para determinar los casos favorables, se multiplica el número de combinaciones de **22** latas en buen estado por las combinaciones posibles de **2** latas contaminadas.\n",
    "\n",
    "**1 lata en buen estado**  \n",
    "\n",
    "\n",
    "$$\n",
    "\\begin{align}\n",
    "    _{22}C_1 &= \\dfrac{22!}{1! \\cdot (22 - 1)!}\\\\\n",
    "    _{22}C_1 &= \\dfrac{22!}{1 \\cdot 21!}\\\\\n",
    "    _{22}C_1 &= 22\n",
    "\\end{align}\n",
    "$$\n",
    "**2 latas contaminadas**  \n",
    "\n",
    "$$\n",
    "\\begin{align}\n",
    "    _{2}C_2 &= \\dfrac{2!}{2! \\cdot (2 - 2)!}\\\\\n",
    "    _{2}C_2 &= \\dfrac{2}{2 - 0!}\\\\\n",
    "    _{2}C_2 &= 1\n",
    "\\end{align}\n",
    "$$\n",
    "\n",
    "$$\n",
    "\\begin{align}\n",
    "    P(\\text{Al menos una lata contaminada}) &= 0.239\n",
    "\\end{align}\n",
    "$$\n",
    "Entonces, la probabilidad para el inciso **c)** es de **0.239**"
   ]
  },
  {
   "cell_type": "code",
   "execution_count": 17,
   "id": "bcd820d0-1463-4c22-8f06-94b5d13055b3",
   "metadata": {},
   "outputs": [
    {
     "name": "stdout",
     "output_type": "stream",
     "text": [
      "Respuesta al inciso c) La probabilidad de al menos una lata contaminada es: 0.239\n"
     ]
    }
   ],
   "source": [
    "# c) Probabilidad de seleccionar al menos una lata contaminada\n",
    "combinaciones_dos_contaminadas = comb(22, 1) * comb(2, 2)\n",
    "probabilidad_dos_contaminadas = combinaciones_dos_contaminadas / total_combinaciones\n",
    "probabilidad_al_menos_una_contaminada = probabilidad_una_contaminada + probabilidad_dos_contaminadas\n",
    "\n",
    "print(\"Respuesta al inciso c) La probabilidad de al menos una lata contaminada es:\", round(probabilidad_al_menos_una_contaminada, 3))"
   ]
  },
  {
   "cell_type": "markdown",
   "id": "02be953d-73e7-41a6-86f7-706bf8afddaa",
   "metadata": {},
   "source": [
    "<div id=ex_17_d></div> \n",
    "\n",
    "---  \n",
    "<span style=\"color: #F44336; font-size: 20px; font-weight: 600;\">Inciso D</span><div id=ex_17_d></div><div id=ex_17_d></div> \n",
    "\n",
    "**d) Probabilidad de no seleccionar latas contaminadas**\n",
    "\n",
    "Para calcular la probabilidad de no seleccionar latas contaminadas, multiplicamos el número de combinaciones de **22** latas en buen estado por las combinaciones posibles de **0** latas contaminadas, y también por las combinaciones de 3 latas en buen estado.\n",
    "\n",
    "**3 latas en buen estado**  \n",
    "\n",
    "$$\n",
    "\\begin{align}\n",
    "    _{22}C_3 &= \\dfrac{22!}{3! \\cdot (22 - 3)!}\\\\\n",
    "    _{22}C_3 &= \\dfrac{22!}{3! \\cdot 19!}\\\\\n",
    "    _{22}C_3 &= 1540\n",
    "\\end{align}\n",
    "$$\n",
    "\n",
    "**0 latas contaminadas**  \n",
    " \n",
    "$$\n",
    "\\begin{align}\n",
    "    _{2}C_0 &= \\dfrac{2!}{0! \\cdot (2 - 0)!}\\\\\n",
    "    _{2}C_0 &= \\dfrac{2}{1 \\cdot 2!}\\\\\n",
    "    _{2}C_0 &= 1\n",
    "\\end{align}\n",
    "$$  \n",
    "\n",
    "$$\n",
    "\\begin{align}\n",
    "    P(\\text{Al menos una lata contaminada}) &= 0.761\n",
    "\\end{align}\n",
    "$$\n",
    "Entonces, la probabilidad para el inciso **d)** es de **0.761**"
   ]
  },
  {
   "cell_type": "code",
   "execution_count": 18,
   "id": "d93ea3ee-3990-4248-a516-567cca4822a8",
   "metadata": {},
   "outputs": [
    {
     "name": "stdout",
     "output_type": "stream",
     "text": [
      "Respuesta al inciso d) La probabilidad de no seleccionar latas contaminadas es de: 0.761\n"
     ]
    }
   ],
   "source": [
    "# d) Probabilidad de no seleccionar latas contaminadas\n",
    "combinaciones_no_contaminadas = comb(22, 3) * comb(2, 0)\n",
    "probabilidad_no_contaminadas = combinaciones_no_contaminadas / total_combinaciones\n",
    "\n",
    "print(\"Respuesta al inciso d) La probabilidad de no seleccionar latas contaminadas es de:\", round(probabilidad_no_contaminadas, 3))"
   ]
  }
 ],
 "metadata": {
  "kernelspec": {
   "display_name": "Python 3 (ipykernel)",
   "language": "python",
   "name": "python3"
  },
  "language_info": {
   "codemirror_mode": {
    "name": "ipython",
    "version": 3
   },
   "file_extension": ".py",
   "mimetype": "text/x-python",
   "name": "python",
   "nbconvert_exporter": "python",
   "pygments_lexer": "ipython3",
   "version": "3.11.4"
  }
 },
 "nbformat": 4,
 "nbformat_minor": 5
}
