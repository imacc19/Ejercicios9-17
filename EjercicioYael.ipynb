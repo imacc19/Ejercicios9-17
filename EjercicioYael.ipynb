{
 "cells": [
  {
   "cell_type": "markdown",
   "id": "f2e0f703-9f16-43e5-b8b2-346c25dc1e49",
   "metadata": {},
   "source": [
    "# Ejercicio 14\n",
    "**Finanzas.** Se va a formar un portafolio de inversión de cuatro instrumentos financieros a partir\n",
    "de cinco de renta fija y seis de renta variable. ¿De cuántas maneras podría formarse el portafolio\n",
    "si:\n",
    "\n",
    "\n",
    "**a) No hay restricciones?**\n",
    "\n",
    "**b) Debe haber dos instrumentos de renta fija y dos de renta variable?**\n",
    "\n",
    "**c) No debe haber ningún instrumento de renta fija?**\n",
    "\n",
    "**d) Debe haber tres instrumentos de renta fija?**\n",
    "\n",
    "**e) Calcula las probabilidades para los incisos anteriores.**"
   ]
  },
  {
   "cell_type": "code",
   "execution_count": 15,
   "id": "ff634273-4072-4195-9edc-8fb2fd126fba",
   "metadata": {},
   "outputs": [
    {
     "name": "stdout",
     "output_type": "stream",
     "text": [
      "Respuesta al inciso a) 330\n",
      "Respuesta al inciso b) 150\n",
      "Respuesta al inciso c) 15\n",
      "Respuesta al inciso d) 60\n",
      "\n",
      "La probabilidad del inciso a): 1.0\n",
      "La probabilidad del inciso b): 0.45454545454545453\n",
      "La probabilidad del inciso c): 0.045454545454545456\n",
      "La probabilidad del inciso d): 0.18181818181818182\n"
     ]
    }
   ],
   "source": [
    "import math\n",
    "\n",
    "#a)\n",
    "totalPorta = comb(11, 4)\n",
    "#b) \n",
    "portaforRfV = comb(5, 2) * comb(6, 2)\n",
    "#c) \n",
    "portaforNoRenta = comb(5, 0) * comb(6, 4)\n",
    "#d) \n",
    "portaforRtres =  comb(5, 3) * comb(6, 1)\n",
    "#e(Probabilidades) ) \n",
    "pA = totalPorta / totalPorta\n",
    "pB = portaforRfV / totalPorta\n",
    "pC = portaforNoRenta / totalPorta\n",
    "pD = portaforRtres / totalPorta\n",
    "\n",
    "#Incisos\n",
    " #a\n",
    "print(\"Respuesta al inciso a)\", totalPorta)\n",
    " #b\n",
    "print(\"Respuesta al inciso b)\", portaforRfV)\n",
    " #c\n",
    "print(\"Respuesta al inciso c)\", portaforNoRenta)\n",
    " #d\n",
    "print(\"Respuesta al inciso d)\", portaforRtres)\n",
    "print(\"\")\n",
    "\n",
    "# Probabilidades jeje\n",
    "print(\"La probabilidad del inciso a):\", pA)\n",
    "print(\"La probabilidad del inciso b):\", pB)\n",
    "print(\"La probabilidad del inciso c):\", pC)\n",
    "print(\"La probabilidad del inciso d):\", pD)"
   ]
  },
  {
   "cell_type": "markdown",
   "id": "20da59e7-6622-46b0-bd95-42a1571f7b71",
   "metadata": {},
   "source": [
    "# Ejercicio 16\n",
    "\n",
    "**Trabajo en equipo.** En un grupo de 25 alumnos hay 13 chicas y 12 chicos. Se desean formar\n",
    "equipos de trabajo para realizar una investigación:\n",
    "\n",
    "\n",
    "**a) ¿Cuántos equipos de cinco personas pueden formarse?**\n",
    "\n",
    "**b) ¿Cuántos equipos pueden formarse si debe haber una chica?**\n",
    "\n",
    "**c) ¿Cuántos equipos pueden formarse si debe haber dos chicas?**\n",
    "\n",
    "**d) Determina las probabilidades correspondientes a los incisos anteriores.**"
   ]
  },
  {
   "cell_type": "code",
   "execution_count": 19,
   "id": "74bd6fa6-8371-44f4-a3c0-6d093acac968",
   "metadata": {},
   "outputs": [
    {
     "name": "stdout",
     "output_type": "stream",
     "text": [
      "Respuesta al inciso a) 53130\n",
      "Respuesta al inciso b) 6435\n",
      "Respuesta al inciso c) 17160\n",
      "\n",
      "La probabilidad del inciso a): 1.0\n",
      "La probabilidad del inciso b): 0.12111801242236025\n",
      "La probabilidad del inciso c): 0.32298136645962733\n"
     ]
    }
   ],
   "source": [
    "import math\n",
    "\n",
    "# a\n",
    "eqCico = comb(25, 5)\n",
    "# b\n",
    "equCicoUnaPeque = comb(12, 4) * comb(13, 1)\n",
    "# c\n",
    "equCicoDosPeque = comb(12, 3) * comb(13, 2)\n",
    "# d\n",
    "paA = eqCico / eqCico\n",
    "pbB = equCicoUnaPeque / eqCico\n",
    "pcC = equCicoDosPeque / eqCico\n",
    "\n",
    "#Incisos\n",
    " #a\n",
    "print(\"Respuesta al inciso a)\", eqCico)\n",
    " #b\n",
    "print(\"Respuesta al inciso b)\", equCicoUnaPeque)\n",
    " #c\n",
    "print(\"Respuesta al inciso c)\", equCicoDosPeque)\n",
    "print(\"\")\n",
    "# Probabilidades jej\n",
    "print(\"La probabilidad del inciso a):\", paA)\n",
    "print(\"La probabilidad del inciso b):\", pbB)\n",
    "print(\"La probabilidad del inciso c):\", pcC)"
   ]
  },
  {
   "cell_type": "markdown",
   "id": "f9de7541-5194-47ef-bb20-3614807f28b4",
   "metadata": {},
   "source": [
    "# Ejercicio 17\n",
    "\n",
    "**Control de calidad.** Se tiene una caja con 24 latas y se sabe que dos están contaminadas. Se van\n",
    "a seleccionar tres latas al azar para someterlas a una prueba de control de calidad, es decir, para\n",
    "medir los estándares de calidad de la empresa.\n",
    "\n",
    "\n",
    "**a) ¿Cuántas combinaciones de tres latas pueden hacerse?**\n",
    "\n",
    "**b) ¿Cuál es la probabilidad de que se seleccione una lata contaminada para la prueba?**\n",
    "\n",
    "**c) ¿Cuál es la probabilidad de que se seleccione al menos una lata contaminada para la prueba?**\n",
    "\n",
    "**d) ¿Y la probabilidad de que no se elijan latas contaminadas para la prueba?**"
   ]
  },
  {
   "cell_type": "code",
   "execution_count": 22,
   "id": "8f3db329-76b7-433a-8244-5126acc31778",
   "metadata": {},
   "outputs": [
    {
     "name": "stdout",
     "output_type": "stream",
     "text": [
      "Respuesta a inciso a): 2024\n",
      "Respuesta a inciso b): 0.239\n",
      "Respuesta a inciso c): 0.239\n",
      "Respuesta a inciso d): 0.761\n"
     ]
    }
   ],
   "source": [
    "import math\n",
    "\n",
    "# a) \n",
    "totalCom= math.comb(24, 3)\n",
    "# b) \n",
    "comb1conta = math.comb(2, 1) * math.comb(22, 2)\n",
    "probabilidad_1_contaminada = round(comb1conta / total_comb, 3)\n",
    "# c) \n",
    "combinaciones_1_contaminada = math.comb(2, 1) * math.comb(22, 2)\n",
    "# 2 contaminadas\n",
    "combinaciones_2_contaminadas = math.comb(2, 2) * math.comb(22, 1)\n",
    "casos_favorables_al_menos_una = combinaciones_1_contaminada + combinaciones_2_contaminadas\n",
    "probabilidad_al_menos_una_contaminada = round(casos_favorables_al_menos_una / total_comb, 3)\n",
    "# d)\n",
    "combinaciones_0_contaminadas = math.comb(22, 3)\n",
    "probabilidad_0_contaminadas = round(combinaciones_0_contaminadas / total_comb, 3)\n",
    "\n",
    "\n",
    "print(\"Respuesta a inciso a):\", totalCom)\n",
    "print(\"Respuesta a inciso b):\", p1Con)\n",
    "print(\"Respuesta a inciso c):\", p1Con)\n",
    "print(\"Respuesta a inciso d):\", probabilidad_0_contaminadas)   \n",
    "\n"
   ]
  }
 ],
 "metadata": {
  "kernelspec": {
   "display_name": "Python 3 (ipykernel)",
   "language": "python",
   "name": "python3"
  },
  "language_info": {
   "codemirror_mode": {
    "name": "ipython",
    "version": 3
   },
   "file_extension": ".py",
   "mimetype": "text/x-python",
   "name": "python",
   "nbconvert_exporter": "python",
   "pygments_lexer": "ipython3",
   "version": "3.11.4"
  }
 },
 "nbformat": 4,
 "nbformat_minor": 5
}
