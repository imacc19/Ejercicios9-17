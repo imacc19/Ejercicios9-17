{
 "cells": [
  {
   "cell_type": "code",
   "execution_count": 2,
   "id": "482989dd-3b5e-4ae4-8f0f-6a921144e623",
   "metadata": {},
   "outputs": [
    {
     "name": "stdout",
     "output_type": "stream",
     "text": [
      "Respuesta al inciso a) Combinaciones sin restricciones: 330\n",
      "Respuesta al inciso b) Las 2 Combinaciones con renta fija y 2 con variable son: 150\n",
      "Respuesta al inciso c) Sin incluir renta fija son: 15\n",
      "Respuesta al inciso d): Los 3 de renta fija son: 60\n",
      "La probabilidad del inciso a): 1.0\n",
      "La probabilidad del inciso b): 0.455\n",
      "La probabilidad del inciso c): 0.045\n",
      "La probabilidad del inciso d): 0.182\n"
     ]
    }
   ],
   "source": [
    "# EJERCICIO 14\n",
    "\n",
    "import math\n",
    "from math import comb\n",
    "\n",
    "# a) Total combinaciones sin restricciones\n",
    "total_portafolios = comb(11, 4)\n",
    "\n",
    "\n",
    "# b) Portafolios con 2 de renta fija y 2 variable\n",
    "portafolios_2renta_fija_2variable = comb(5, 2) * comb(6, 2)\n",
    "\n",
    "# c) Portafolios sin instrumentos de renta fija\n",
    "portafolios_solo_renta_variable = comb(5, 0) * comb(6, 4)\n",
    "\n",
    "# d) Portafolios con 3 instrumentos de renta fija\n",
    "portafolios_tres_renta_fija = comb(5, 3) * comb(6, 1)\n",
    "\n",
    "# e) Cálculo de probabilidades\n",
    "probabilidad_a = total_portafolios / total_portafolios\n",
    "probabilidad_b = portafolios_2renta_fija_2variable / total_portafolios\n",
    "probabilidad_c = portafolios_solo_renta_variable / total_portafolios\n",
    "probabilidad_d = portafolios_tres_renta_fija / total_portafolios\n",
    "\n",
    "print(\"Respuesta al inciso a) Combinaciones sin restricciones:\", total_portafolios)\n",
    "print(\"Respuesta al inciso b) Las 2 Combinaciones con renta fija y 2 con variable son:\", portafolios_2renta_fija_2variable)\n",
    "print(\"Respuesta al inciso c) Sin incluir renta fija son:\", portafolios_solo_renta_variable)\n",
    "print(\"Respuesta al inciso d): Los 3 de renta fija son:\", portafolios_tres_renta_fija)\n",
    "\n",
    "# Probabilidades (Las probabilidades son redondeadas a 3 decimas\"round\")\n",
    "print(\"La probabilidad del inciso a):\", round(probabilidad_a,3))\n",
    "print(\"La probabilidad del inciso b):\", round(probabilidad_b,3))\n",
    "print(\"La probabilidad del inciso c):\", round(probabilidad_c,3))\n",
    "print(\"La probabilidad del inciso d):\", round(probabilidad_d,3))"
   ]
  },
  {
   "cell_type": "code",
   "execution_count": 3,
   "id": "a9b4d90d-3e6b-4ea2-b438-187e521f0118",
   "metadata": {},
   "outputs": [
    {
     "name": "stdout",
     "output_type": "stream",
     "text": [
      "Respuesta al inciso a) El total de equipos de 5 personas son: 53130\n",
      "Respuesta al inciso b) Los equipos con almenos una chica son: 6435\n",
      "Respuesta al inciso c) Los equipos con al menos dos chicas son: 17160\n",
      "La probabilidad del inciso a): 1.0\n",
      "La probabilidad del inciso b): 0.121\n",
      "La probabilidad del inciso c): 0.323\n"
     ]
    }
   ],
   "source": [
    "#EJECICIO 16\n",
    "\n",
    "# a) Total de equipos de cinco personas\n",
    "total_equipos_cinco_personas = comb(25, 5)\n",
    "\n",
    "# b) Equipos con al menos una chica\n",
    "equipos_almenos_una_chica = comb(12, 4) * comb(13, 1)\n",
    "\n",
    "# c) Equipos con al menos dos chicas\n",
    "equipos_dos_chicas = comb(12, 3) * comb(13, 2)\n",
    "\n",
    "# d) Cálculo de probabilidades\n",
    "probabilidad_a = total_equipos_cinco_personas / total_equipos_cinco_personas\n",
    "probabilidad_b = equipos_almenos_una_chica / total_equipos_cinco_personas\n",
    "probabilidad_c = equipos_dos_chicas / total_equipos_cinco_personas\n",
    "\n",
    "\n",
    "print(\"Respuesta al inciso a) El total de equipos de 5 personas son:\", total_equipos_cinco_personas)\n",
    "print(\"Respuesta al inciso b) Los equipos con almenos una chica son:\", equipos_almenos_una_chica)\n",
    "print(\"Respuesta al inciso c) Los equipos con al menos dos chicas son:\", equipos_dos_chicas)\n",
    "\n",
    "# Probabilidades (Las probabilidades son redondeadas a 3 decimas\"round\")\n",
    "print(\"La probabilidad del inciso a):\", round(probabilidad_a,3))\n",
    "print(\"La probabilidad del inciso b):\", round(probabilidad_b,3))\n",
    "print(\"La probabilidad del inciso c):\", round(probabilidad_c,3))"
   ]
  },
  {
   "cell_type": "code",
   "execution_count": 5,
   "id": "a7298f80-4c5d-499a-8e80-3b4c77a162d5",
   "metadata": {},
   "outputs": [
    {
     "name": "stdout",
     "output_type": "stream",
     "text": [
      "Respuesta al inciso a) El total de combinaciones de 3 latas son: 2024\n",
      "Respuesta al inciso b) La probabilidad de seleccionar una lata contaminada es de: 0.228\n",
      "Respuesta al inciso c) La probabilidad de al menos una lata contaminada es: 0.239\n",
      "Respuesta al inciso d) La probabilidad de no seleccionar latas contaminadas es de: 0.761\n"
     ]
    }
   ],
   "source": [
    "#EJERCICIO 17\n",
    "\n",
    "# a) Total de combinaciones de tres latas \n",
    "total_combinaciones = comb(24, 3)\n",
    "\n",
    "# b) Probabilidad de seleccionar una lata contaminada (las probabilidades son redondeadas a 3 decimas\"round\")\n",
    "combinaciones_una_contaminada = comb(22, 2) * comb(2, 1)\n",
    "probabilidad_una_contaminada = combinaciones_una_contaminada / total_combinaciones\n",
    "\n",
    "# c) Probabilidad de seleccionar al menos una lata contaminada\n",
    "combinaciones_dos_contaminadas = comb(22, 1) * comb(2, 2)\n",
    "probabilidad_dos_contaminadas = combinaciones_dos_contaminadas / total_combinaciones\n",
    "probabilidad_al_menos_una_contaminada = probabilidad_una_contaminada + probabilidad_dos_contaminadas\n",
    "\n",
    "# d) Probabilidad de no seleccionar latas contaminadas\n",
    "combinaciones_no_contaminadas = comb(22, 3) * comb(2, 0)\n",
    "probabilidad_no_contaminadas = combinaciones_no_contaminadas / total_combinaciones\n",
    "\n",
    "\n",
    "print(\"Respuesta al inciso a) El total de combinaciones de 3 latas son:\", total_combinaciones)\n",
    "print(\"Respuesta al inciso b) La probabilidad de seleccionar una lata contaminada es de:\", round(probabilidad_una_contaminada, 3))\n",
    "print(\"Respuesta al inciso c) La probabilidad de al menos una lata contaminada es:\", round(probabilidad_al_menos_una_contaminada, 3))\n",
    "print(\"Respuesta al inciso d) La probabilidad de no seleccionar latas contaminadas es de:\", round(probabilidad_no_contaminadas, 3))"
   ]
  }
 ],
 "metadata": {
  "kernelspec": {
   "display_name": "Python 3 (ipykernel)",
   "language": "python",
   "name": "python3"
  },
  "language_info": {
   "codemirror_mode": {
    "name": "ipython",
    "version": 3
   },
   "file_extension": ".py",
   "mimetype": "text/x-python",
   "name": "python",
   "nbconvert_exporter": "python",
   "pygments_lexer": "ipython3",
   "version": "3.11.4"
  }
 },
 "nbformat": 4,
 "nbformat_minor": 5
}
