{
 "cells": [
  {
   "cell_type": "code",
   "execution_count": 1,
   "id": "ecf3d2d7",
   "metadata": {},
   "outputs": [
    {
     "name": "stdout",
     "output_type": "stream",
     "text": [
      "Respuesta del iniciso a): 9000000\n",
      "Respuesta del incisio b): 10000\n"
     ]
    }
   ],
   "source": [
    "# EJERCICIO 9\n",
    "\n",
    "import math\n",
    "\n",
    "linT = 9 * (10 ** 6)\n",
    "linZ = 10 ** 4\n",
    "\n",
    "# a) ¿Cuántas líneas telefónicas pueden crearse en esa ciudad? Recuerda que no pueden comenzar con cero.\n",
    "print(\"Respuesta del iniciso a):\", linT)\n",
    "\n",
    "# b) Si los tres primeros dígitos representan una zona de Cuernavaca, ¿cuántas líneas telefónicas pertenecen a la zona 326?\n",
    "print(\"Respuesta del incisio b):\", linZ)"
   ]
  },
  {
   "cell_type": "code",
   "execution_count": 2,
   "id": "8629c5c9",
   "metadata": {},
   "outputs": [
    {
     "name": "stdout",
     "output_type": "stream",
     "text": [
      "Respuesta del iniciso a): 3628800\n",
      "Respuesta del iniciso b): 30240\n",
      "Respuesta del iniciso c): 0.42%\n"
     ]
    }
   ],
   "source": [
    "# EJERCICIO 10\n",
    "\n",
    "from math import factorial\n",
    "\n",
    "\n",
    "letras = 10\n",
    "k = 4\n",
    "palOrig = \"MURCIÉLAGO\"\n",
    "\n",
    "# a) El número de palabras que puedes crear.\n",
    "res = factorial(len(palOrig))\n",
    "\n",
    "# b) El número de palabras con cinco letras.\n",
    "combinaciones = factorial(len(palOrig)) // factorial(len(palOrig) - 5)\n",
    "\n",
    "# c) La probabilidad de que una palabra de cinco letras termine en vocal.\n",
    "p = 9 * 8 * 7 * 6 * 5\n",
    "t = 3628800\n",
    "porcentaje = (100 / t) * p\n",
    "\n",
    "print(\"Respuesta del iniciso a):\",res)\n",
    "print(\"Respuesta del iniciso b):\",combinaciones)\n",
    "print(f\"Respuesta del iniciso c): {porcentaje:.2f}%\")\n"
   ]
  },
  {
   "cell_type": "code",
   "execution_count": 1,
   "id": "e972f25f",
   "metadata": {},
   "outputs": [
    {
     "name": "stdout",
     "output_type": "stream",
     "text": [
      "a) Número total de placas diferentes: 10950300\n",
      "b) Número de placas que terminan en vocal: 2380500\n",
      "c) Probabilidad de que una placa sea impar: 0.5%\n"
     ]
    }
   ],
   "source": [
    "# EJERCICIO 11\n",
    "# Solución en codigó del ejercicio del inciso a\n",
    "import math as m\n",
    "pat_nums = 9 * 10 * 10\n",
    "letras = 23 ** 3\n",
    "total_placas = pat_nums * letras\n",
    "print(f\"a) Número total de placas diferentes: {total_placas}\")\n",
    "\n",
    "# Solución en codigó del ejercicio del inciso b\n",
    "vocales = ['A', 'E','I', 'O', 'U']\n",
    "plac_vocales = (23 ** 2) * len(vocales)\n",
    "placas_vocales_tot = pat_nums * plac_vocales \n",
    "print(f\"b) Número de placas que terminan en vocal: {placas_vocales_tot}\")\n",
    "\n",
    "# Solución en codigó del ejercicio del inciso c\n",
    "impar_num = 9 * 10 * 5\n",
    "total_placas_impares = impar_num * letras\n",
    "probabilidad_placas_impares = total_placas_impares / total_placas\n",
    "print(f\"c) Probabilidad de que una placa sea impar: {probabilidad_placas_impares}%\")"
   ]
  },
  {
   "cell_type": "code",
   "execution_count": 2,
   "id": "244f2d16",
   "metadata": {},
   "outputs": [
    {
     "name": "stdout",
     "output_type": "stream",
     "text": [
      "Número total de combinaciones posibles: 512\n",
      "La afirmacion del restaurante es correcta al utilizar todos esos ingredientes y tener ese total de combinaciones posibles\n"
     ]
    }
   ],
   "source": [
    "# EJERCICIO 12\n",
    "# Solución del ejercicio en codigó\n",
    "ing = ['cátsup', 'mostaza', 'mayonesa', 'aderezo de la casa', \n",
    "       'cebolla', 'pepinillos', 'jitomate', 'tocino', 'lechuga']\n",
    "n = len(ing)\n",
    "\n",
    "total_combinaciones = 0\n",
    "for ingrediente in range(0,n+1):\n",
    "    combinacion = m.comb(n,ingrediente)\n",
    "    total_combinaciones += combinacion\n",
    "\n",
    "print(f\"Número total de combinaciones posibles: {int(total_combinaciones)}\")\n",
    "if total_combinaciones == 512:\n",
    "    print(\"La afirmacion del restaurante es correcta al utilizar todos esos ingredientes y tener ese total de combinaciones posibles\")\n",
    "else:\n",
    "    print(\"La afirmacion del restaurante no es correcta\")"
   ]
  },
  {
   "cell_type": "code",
   "execution_count": 1,
   "id": "fef73beb",
   "metadata": {},
   "outputs": [
    {
     "name": "stdout",
     "output_type": "stream",
     "text": [
      "0.10714285714285714\n",
      "0.010714285714285714\n",
      "Respuesta al inciso a) Maneras de acomodar los libros:  432\n",
      "Pueden hacerlo de  432 formas. \n",
      "Pueden hacerlo de  432 maneras. \n",
      "Probabilidad de inciso b: \n",
      "0.10714285714285714\n",
      "Probabilidad de inciso c: \n",
      "0.010714285714285714\n"
     ]
    }
   ],
   "source": [
    "#EJECICIO 13\n",
    "\n",
    "# a) ¿De cuántas formas puede acomodar los libros sobre la repisa?\n",
    "import math\n",
    "resultado = math.factorial(8)\n",
    "\n",
    "# b) ¿De cuántas maneras puede ordenarlos si quiere que los libros de autores latinoamericanos estén juntos?\n",
    "factorial_6 = math.factorial(6)\n",
    "\n",
    "factorial_3 = math.factorial(3)\n",
    "\n",
    "resultado = factorial_6 * factorial_3\n",
    "\n",
    "\n",
    "# c) ¿De cuántas formas puede acomodarlos, si los autores latinoamericanos deben estar juntos, \n",
    "factorial_A = math.factorial(3)\n",
    "\n",
    "factorial_E = math.factorial(2)\n",
    "\n",
    "factorial_L = math.factorial(3)\n",
    "\n",
    "factorial_3 = math.factorial(3)\n",
    "\n",
    "resultado = factorial_A * factorial_E * factorial_L * factorial_3\n",
    "\n",
    "\n",
    "\n",
    "# d) Determina las probabilidades correspondientes a los incisos (b) y (c).\n",
    "print(4320/40320)\n",
    "print(432/40320)\n",
    "\n",
    "\n",
    "\n",
    "print(\"Respuesta al inciso a) Maneras de acomodar los libros: \", resultado)\n",
    "print(\"Pueden hacerlo de \", resultado, \"formas. \")\n",
    "print(\"Pueden hacerlo de \", resultado, \"maneras. \")\n",
    "\n",
    "# Probabilidades inciso d\n",
    "print(\"Probabilidad de inciso b: \")\n",
    "print(4320/40320)\n",
    "print(\"Probabilidad de inciso c: \")\n",
    "print(432/40320)"
   ]
  },
  {
   "cell_type": "code",
   "execution_count": 2,
   "id": "482989dd-3b5e-4ae4-8f0f-6a921144e623",
   "metadata": {},
   "outputs": [
    {
     "name": "stdout",
     "output_type": "stream",
     "text": [
      "Respuesta al inciso a) Combinaciones sin restricciones: 330\n",
      "Respuesta al inciso b) Las 2 Combinaciones con renta fija y 2 con variable son: 150\n",
      "Respuesta al inciso c) Sin incluir renta fija son: 15\n",
      "Respuesta al inciso d): Los 3 de renta fija son: 60\n",
      "La probabilidad del inciso a): 1.0\n",
      "La probabilidad del inciso b): 0.455\n",
      "La probabilidad del inciso c): 0.045\n",
      "La probabilidad del inciso d): 0.182\n"
     ]
    }
   ],
   "source": [
    "# EJERCICIO 14\n",
    "\n",
    "import math\n",
    "from math import comb\n",
    "\n",
    "# a) Total combinaciones sin restricciones\n",
    "total_portafolios = comb(11, 4)\n",
    "\n",
    "\n",
    "# b) Portafolios con 2 de renta fija y 2 variable\n",
    "portafolios_2renta_fija_2variable = comb(5, 2) * comb(6, 2)\n",
    "\n",
    "# c) Portafolios sin instrumentos de renta fija\n",
    "portafolios_solo_renta_variable = comb(5, 0) * comb(6, 4)\n",
    "\n",
    "# d) Portafolios con 3 instrumentos de renta fija\n",
    "portafolios_tres_renta_fija = comb(5, 3) * comb(6, 1)\n",
    "\n",
    "# e) Cálculo de probabilidades\n",
    "probabilidad_a = total_portafolios / total_portafolios\n",
    "probabilidad_b = portafolios_2renta_fija_2variable / total_portafolios\n",
    "probabilidad_c = portafolios_solo_renta_variable / total_portafolios\n",
    "probabilidad_d = portafolios_tres_renta_fija / total_portafolios\n",
    "\n",
    "print(\"Respuesta al inciso a) Combinaciones sin restricciones:\", total_portafolios)\n",
    "print(\"Respuesta al inciso b) Las 2 Combinaciones con renta fija y 2 con variable son:\", portafolios_2renta_fija_2variable)\n",
    "print(\"Respuesta al inciso c) Sin incluir renta fija son:\", portafolios_solo_renta_variable)\n",
    "print(\"Respuesta al inciso d): Los 3 de renta fija son:\", portafolios_tres_renta_fija)\n",
    "\n",
    "# Probabilidades (Las probabilidades son redondeadas a 3 decimas\"round\")\n",
    "print(\"La probabilidad del inciso a):\", round(probabilidad_a,3))\n",
    "print(\"La probabilidad del inciso b):\", round(probabilidad_b,3))\n",
    "print(\"La probabilidad del inciso c):\", round(probabilidad_c,3))\n",
    "print(\"La probabilidad del inciso d):\", round(probabilidad_d,3))"
   ]
  },
  {
   "cell_type": "code",
   "execution_count": 2,
   "id": "f7d8799e",
   "metadata": {},
   "outputs": [
    {
     "name": "stdout",
     "output_type": "stream",
     "text": [
      "Probabilidad de inciso a: \n",
      "1.0\n",
      "Probabilidad de inciso b: \n",
      "0.2\n",
      "Probabilidad de inciso c: \n",
      "0.06666666666666667\n",
      "Resultado de inciso A:  48\n",
      "Resultado de inciso B: Pueden hacerlo de  48 maneras. \n",
      "Resultado de inciso C: Hay  48  maneras de sentarse en parejas.\n"
     ]
    }
   ],
   "source": [
    "#EJECICIO 15\n",
    "\n",
    "# a) a) No hay restricciones\n",
    "resultado = math.factorial(6)\n",
    "\n",
    "# b) Los hombres deben sentarse juntos\n",
    "factorial_4 = math.factorial(4)\n",
    "\n",
    "factorial_3 = math.factorial(3)\n",
    "\n",
    "resultado = factorial_4 * factorial_3\n",
    "\n",
    "\n",
    "# c) Deben sentarse por parejas\n",
    "factorial_3 = math.factorial(3)\n",
    "\n",
    "orden = 2 * 2 * 2\n",
    "\n",
    "resultado =  factorial_3 * orden\n",
    "\n",
    "\n",
    "# d) ¿Cuál es la probabilidad de cada uno de los eventos descritos en los incisos anteriores?\n",
    "print(\"Probabilidad de inciso a: \")\n",
    "print(720/720)\n",
    "\n",
    "print(\"Probabilidad de inciso b: \")\n",
    "print(144/720)\n",
    "\n",
    "print(\"Probabilidad de inciso c: \")\n",
    "print(48/720)\n",
    "\n",
    "print(\"Resultado de inciso A: \", resultado)\n",
    "print(\"Resultado de inciso B: Pueden hacerlo de \", resultado, \"maneras. \")\n",
    "print(\"Resultado de inciso C: Hay \", resultado, \" maneras de sentarse en parejas.\")\n"
   ]
  },
  {
   "cell_type": "code",
   "execution_count": 3,
   "id": "a9b4d90d-3e6b-4ea2-b438-187e521f0118",
   "metadata": {},
   "outputs": [
    {
     "name": "stdout",
     "output_type": "stream",
     "text": [
      "Respuesta al inciso a) El total de equipos de 5 personas son: 53130\n",
      "Respuesta al inciso b) Los equipos con almenos una chica son: 6435\n",
      "Respuesta al inciso c) Los equipos con al menos dos chicas son: 17160\n",
      "La probabilidad del inciso a): 1.0\n",
      "La probabilidad del inciso b): 0.121\n",
      "La probabilidad del inciso c): 0.323\n"
     ]
    }
   ],
   "source": [
    "#EJECICIO 16\n",
    "\n",
    "# a) Total de equipos de cinco personas\n",
    "total_equipos_cinco_personas = comb(25, 5)\n",
    "\n",
    "# b) Equipos con al menos una chica\n",
    "equipos_almenos_una_chica = comb(12, 4) * comb(13, 1)\n",
    "\n",
    "# c) Equipos con al menos dos chicas\n",
    "equipos_dos_chicas = comb(12, 3) * comb(13, 2)\n",
    "\n",
    "# d) Cálculo de probabilidades\n",
    "probabilidad_a = total_equipos_cinco_personas / total_equipos_cinco_personas\n",
    "probabilidad_b = equipos_almenos_una_chica / total_equipos_cinco_personas\n",
    "probabilidad_c = equipos_dos_chicas / total_equipos_cinco_personas\n",
    "\n",
    "\n",
    "print(\"Respuesta al inciso a) El total de equipos de 5 personas son:\", total_equipos_cinco_personas)\n",
    "print(\"Respuesta al inciso b) Los equipos con almenos una chica son:\", equipos_almenos_una_chica)\n",
    "print(\"Respuesta al inciso c) Los equipos con al menos dos chicas son:\", equipos_dos_chicas)\n",
    "\n",
    "# Probabilidades (Las probabilidades son redondeadas a 3 decimas\"round\")\n",
    "print(\"La probabilidad del inciso a):\", round(probabilidad_a,3))\n",
    "print(\"La probabilidad del inciso b):\", round(probabilidad_b,3))\n",
    "print(\"La probabilidad del inciso c):\", round(probabilidad_c,3))"
   ]
  },
  {
   "cell_type": "code",
   "execution_count": 5,
   "id": "a7298f80-4c5d-499a-8e80-3b4c77a162d5",
   "metadata": {},
   "outputs": [
    {
     "name": "stdout",
     "output_type": "stream",
     "text": [
      "Respuesta al inciso a) El total de combinaciones de 3 latas son: 2024\n",
      "Respuesta al inciso b) La probabilidad de seleccionar una lata contaminada es de: 0.228\n",
      "Respuesta al inciso c) La probabilidad de al menos una lata contaminada es: 0.239\n",
      "Respuesta al inciso d) La probabilidad de no seleccionar latas contaminadas es de: 0.761\n"
     ]
    }
   ],
   "source": [
    "#EJERCICIO 17\n",
    "\n",
    "# a) Total de combinaciones de tres latas \n",
    "total_combinaciones = comb(24, 3)\n",
    "\n",
    "# b) Probabilidad de seleccionar una lata contaminada (las probabilidades son redondeadas a 3 decimas\"round\")\n",
    "combinaciones_una_contaminada = comb(22, 2) * comb(2, 1)\n",
    "probabilidad_una_contaminada = combinaciones_una_contaminada / total_combinaciones\n",
    "\n",
    "# c) Probabilidad de seleccionar al menos una lata contaminada\n",
    "combinaciones_dos_contaminadas = comb(22, 1) * comb(2, 2)\n",
    "probabilidad_dos_contaminadas = combinaciones_dos_contaminadas / total_combinaciones\n",
    "probabilidad_al_menos_una_contaminada = probabilidad_una_contaminada + probabilidad_dos_contaminadas\n",
    "\n",
    "# d) Probabilidad de no seleccionar latas contaminadas\n",
    "combinaciones_no_contaminadas = comb(22, 3) * comb(2, 0)\n",
    "probabilidad_no_contaminadas = combinaciones_no_contaminadas / total_combinaciones\n",
    "\n",
    "\n",
    "print(\"Respuesta al inciso a) El total de combinaciones de 3 latas son:\", total_combinaciones)\n",
    "print(\"Respuesta al inciso b) La probabilidad de seleccionar una lata contaminada es de:\", round(probabilidad_una_contaminada, 3))\n",
    "print(\"Respuesta al inciso c) La probabilidad de al menos una lata contaminada es:\", round(probabilidad_al_menos_una_contaminada, 3))\n",
    "print(\"Respuesta al inciso d) La probabilidad de no seleccionar latas contaminadas es de:\", round(probabilidad_no_contaminadas, 3))"
   ]
  }
 ],
 "metadata": {
  "kernelspec": {
   "display_name": "Python 3 (ipykernel)",
   "language": "python",
   "name": "python3"
  },
  "language_info": {
   "codemirror_mode": {
    "name": "ipython",
    "version": 3
   },
   "file_extension": ".py",
   "mimetype": "text/x-python",
   "name": "python",
   "nbconvert_exporter": "python",
   "pygments_lexer": "ipython3",
   "version": "3.12.4"
  }
 },
 "nbformat": 4,
 "nbformat_minor": 5
}
